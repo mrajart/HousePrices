{
 "cells": [
  {
   "cell_type": "code",
   "execution_count": null,
   "id": "cef9b0dc",
   "metadata": {},
   "outputs": [],
   "source": []
  },
  {
   "cell_type": "code",
   "execution_count": null,
   "id": "03f5a3a4",
   "metadata": {},
   "outputs": [],
   "source": []
  },
  {
   "cell_type": "code",
   "execution_count": null,
   "id": "af420680",
   "metadata": {},
   "outputs": [],
   "source": []
  },
  {
   "cell_type": "code",
   "execution_count": null,
   "id": "42bc00fd",
   "metadata": {},
   "outputs": [],
   "source": [
    "lassomodel = Lasso(alpha=.0005,selection = 'random',max_iter=100000,random_state=99).fit(X_train, y_train)\n",
    "\n",
    "\n",
    "params = {\n",
    "    'min_child_weight': 4.,\n",
    "    'eta': 0.01,\n",
    "    'base_score':7.8,\n",
    "    'colsample_bylevel':.2,\n",
    "    'colsample_bytree': .2,\n",
    "    'max_depth': 5,\n",
    "    'subsample': .2,\n",
    "    'booster':'gbtree',\n",
    "    'alpha': 0.4,\n",
    "    'lambda':.6,\n",
    "    'gamma': 0,\n",
    "    'silent': 1,\n",
    "    'verbose_eval': True,\n",
    "    'seed': 2001\n",
    "}"
   ]
  },
  {
   "cell_type": "code",
   "execution_count": null,
   "id": "a738160c",
   "metadata": {},
   "outputs": [],
   "source": [
    "xgtrain=xgb.DMatrix(X_train,label=y_train)\n",
    "xgmodel = xgb.train( params, xgtrain, num_boost_round=15000,verbose_eval=1, obj = None)"
   ]
  },
  {
   "cell_type": "code",
   "execution_count": null,
   "id": "b9322d3d",
   "metadata": {},
   "outputs": [],
   "source": [
    "lasso_preds = np.exp(lassomodel.predict(testOutId))\n",
    "xgb_preds = np.exp(xgmodel.predict(xgb.DMatrix(testOutId)))"
   ]
  },
  {
   "cell_type": "code",
   "execution_count": null,
   "id": "2c98cebf",
   "metadata": {},
   "outputs": [],
   "source": [
    "# LB 0.20842\n",
    "\n",
    "ens = .35*xgb_preds+.65*lasso_preds\n",
    "submission = pd.DataFrame()\n",
    "submission['Id'] = test['Id']\n",
    "submission[\"SalePrice\"] = ens\n",
    "submission.to_csv(\"submit_ensemble.csv\", index=False)"
   ]
  }
 ],
 "metadata": {
  "kernelspec": {
   "display_name": "Python 3 (ipykernel)",
   "language": "python",
   "name": "python3"
  },
  "language_info": {
   "codemirror_mode": {
    "name": "ipython",
    "version": 3
   },
   "file_extension": ".py",
   "mimetype": "text/x-python",
   "name": "python",
   "nbconvert_exporter": "python",
   "pygments_lexer": "ipython3",
   "version": "3.8.10"
  }
 },
 "nbformat": 4,
 "nbformat_minor": 5
}
