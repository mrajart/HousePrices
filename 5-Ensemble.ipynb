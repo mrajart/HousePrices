{
 "cells": [
  {
   "cell_type": "code",
   "execution_count": null,
   "id": "cef9b0dc",
   "metadata": {},
   "outputs": [],
   "source": [
    "ens = .35*xgb_preds+.65*lasso_preds\n",
    "submission = pd.DataFrame()\n",
    "submission['Id'] = score.index\n",
    "submission[\"SalePrice\"] = ens\n",
    "submission.to_csv(\"submit_ensemble.csv\", index=False)"
   ]
  }
 ],
 "metadata": {
  "kernelspec": {
   "display_name": "Python 3 (ipykernel)",
   "language": "python",
   "name": "python3"
  },
  "language_info": {
   "codemirror_mode": {
    "name": "ipython",
    "version": 3
   },
   "file_extension": ".py",
   "mimetype": "text/x-python",
   "name": "python",
   "nbconvert_exporter": "python",
   "pygments_lexer": "ipython3",
   "version": "3.8.10"
  }
 },
 "nbformat": 4,
 "nbformat_minor": 5
}
