{
 "cells": [
  {
   "cell_type": "code",
   "execution_count": 1,
   "id": "7da62189",
   "metadata": {},
   "outputs": [],
   "source": [
    "import pandas as pd\n",
    "import numpy as np\n",
    "import matplotlib.pyplot as plt\n",
    "import seaborn as sns\n",
    "import copy\n",
    "from scipy.stats import skew\n",
    "from sklearn.preprocessing import LabelEncoder, StandardScaler, MinMaxScaler, RobustScaler\n",
    "%matplotlib inline"
   ]
  },
  {
   "cell_type": "code",
   "execution_count": 2,
   "id": "70e588be",
   "metadata": {},
   "outputs": [],
   "source": [
    "np.random.seed(21)"
   ]
  },
  {
   "cell_type": "code",
   "execution_count": 3,
   "id": "523d4c50",
   "metadata": {},
   "outputs": [],
   "source": [
    "train = pd.read_csv(\"transform/train_transform_after_cleaning.csv\")\n",
    "test = pd.read_csv(\"transform/test_transform_after_cleaning.csv\")"
   ]
  },
  {
   "cell_type": "code",
   "execution_count": 4,
   "id": "b463c22d",
   "metadata": {},
   "outputs": [
    {
     "data": {
      "text/plain": [
       "(1456, 162)"
      ]
     },
     "execution_count": 4,
     "metadata": {},
     "output_type": "execute_result"
    }
   ],
   "source": [
    "train.shape"
   ]
  },
  {
   "cell_type": "code",
   "execution_count": 5,
   "id": "ca0df393",
   "metadata": {},
   "outputs": [
    {
     "data": {
      "text/plain": [
       "(1459, 161)"
      ]
     },
     "execution_count": 5,
     "metadata": {},
     "output_type": "execute_result"
    }
   ],
   "source": [
    "test.shape"
   ]
  },
  {
   "cell_type": "markdown",
   "id": "9dd8df8c",
   "metadata": {},
   "source": [
    "# Проекция числовых на категории"
   ]
  },
  {
   "cell_type": "code",
   "execution_count": 6,
   "id": "6e6ea3c6",
   "metadata": {},
   "outputs": [],
   "source": [
    "def do_proj_num(allData):\n",
    "    allData = allData.replace({\"MSSubClass\" : {20 : \"SC20\", 30 : \"SC30\", 40 : \"SC40\", 45 : \"SC45\", \n",
    "                                           50 : \"SC50\", 60 : \"SC60\", 70 : \"SC70\", 75 : \"SC75\", \n",
    "                                           80 : \"SC80\", 85 : \"SC85\", 90 : \"SC90\", 120 : \"SC120\", \n",
    "                                           150 : \"SC150\", 160 : \"SC160\", 180 : \"SC180\", 190 : \"SC190\"},\n",
    "                           \"MoSold\" : {1 : \"Jan\", 2 : \"Feb\", 3 : \"Mar\", 4 : \"Apr\", 5 : \"May\", 6 : \"Jun\",\n",
    "                                       7 : \"Jul\", 8 : \"Aug\", 9 : \"Sep\", 10 : \"Oct\", 11 : \"Nov\", 12 : \"Dec\"}\n",
    "                          })\n",
    "    allData['MSSubClass'] = allData['MSSubClass'].astype(\"object\")\n",
    "    allData['MoSold'] = allData['MoSold'].astype(\"object\")\n",
    "    return allData"
   ]
  },
  {
   "cell_type": "markdown",
   "id": "22f6135d",
   "metadata": {},
   "source": [
    "# One Hot Encoding"
   ]
  },
  {
   "cell_type": "code",
   "execution_count": 7,
   "id": "298a9fcd",
   "metadata": {},
   "outputs": [],
   "source": [
    "def one_hot_encode(df):\n",
    "    categorical_cols = df.select_dtypes(include=['object']).columns\n",
    "\n",
    "    print(len(categorical_cols), \"categorical columns\")\n",
    "    print(categorical_cols)\n",
    "\n",
    "    dummies = pd.get_dummies(df[categorical_cols], columns = categorical_cols).columns\n",
    "    df = pd.get_dummies(df, columns = categorical_cols)\n",
    "\n",
    "    print(\"Total Columns:\",len(df.columns))\n",
    "    print(df.info())\n",
    "    \n",
    "    return df, dummies"
   ]
  },
  {
   "cell_type": "markdown",
   "id": "377ff9b6",
   "metadata": {},
   "source": [
    "# Label  Encoding"
   ]
  },
  {
   "cell_type": "code",
   "execution_count": 8,
   "id": "62121258",
   "metadata": {},
   "outputs": [],
   "source": [
    "def do_encode_label(y):\n",
    "    le = preprocessing.LabelEncoder()\n",
    "    return le.fit_transform(y)"
   ]
  },
  {
   "cell_type": "markdown",
   "id": "0cacbdf1",
   "metadata": {},
   "source": [
    "# Frequency Encoding"
   ]
  },
  {
   "cell_type": "code",
   "execution_count": 9,
   "id": "a1c592eb",
   "metadata": {},
   "outputs": [],
   "source": [
    "def do_cat_freq(allData):\n",
    "    categorical_cols = df.select_dtypes(include=['object']).columns\n",
    "    for col in categorical_cols:\n",
    "        count_map_col = allData[col].value_counts(dropna=False).to_dict()\n",
    "        alldata[col] = allData[col].map(count_map_col)\n",
    "    return allData"
   ]
  },
  {
   "cell_type": "markdown",
   "id": "cd7ea7ec",
   "metadata": {},
   "source": [
    "# Бининг"
   ]
  },
  {
   "cell_type": "markdown",
   "id": "9d5e0714",
   "metadata": {},
   "source": [
    "KBinsDiscretizer "
   ]
  },
  {
   "cell_type": "markdown",
   "id": "fcba0a4a",
   "metadata": {},
   "source": [
    "Feature Binning: Conversion of a continuous variable to categorical."
   ]
  },
  {
   "cell_type": "code",
   "execution_count": 10,
   "id": "1ae2f1bb",
   "metadata": {},
   "outputs": [],
   "source": [
    "def neighborHoodScore(df,npdict=None):\n",
    "    if npdict is None:\n",
    "        nprice = df.groupby(\"Neighborhood\")['SalePrice'].mean()\n",
    "        npdict = {}\n",
    "        for neigh in nprice.index:\n",
    "            loadval=0\n",
    "            if 100000<nprice[neigh]<=139000:\n",
    "                loadval=1\n",
    "            elif 139000<nprice[neigh]<=199000:\n",
    "                loadval=2\n",
    "            elif 199000<nprice[neigh]<=250000:\n",
    "                loadval=3\n",
    "            elif nprice[neigh]>250000:\n",
    "                loadval=4\n",
    "            npdict[neigh]=loadval\n",
    "    df[\"Nval\"] = df[\"Neighborhood\"].map(npdict)\n",
    "    return df,npdict"
   ]
  },
  {
   "cell_type": "markdown",
   "id": "41af6b0c",
   "metadata": {},
   "source": [
    "# Трансформация числовых"
   ]
  },
  {
   "cell_type": "code",
   "execution_count": 11,
   "id": "9ff4acdf",
   "metadata": {
    "code_folding": []
   },
   "outputs": [],
   "source": [
    "def transformContinuous(alldata, skew_index):\n",
    "    #alldata = alldata.apply(pd.to_numeric)\n",
    "    for sfvar in skew_index:\n",
    "        alldata[sfvar]=np.log(alldata[sfvar]+1.)\n",
    "    return alldata"
   ]
  },
  {
   "cell_type": "markdown",
   "id": "e51d0f4c",
   "metadata": {},
   "source": [
    "# Масштабирование"
   ]
  },
  {
   "cell_type": "code",
   "execution_count": 12,
   "id": "b7b0624e",
   "metadata": {},
   "outputs": [],
   "source": [
    "#scaler = MinMaxScaler()\n",
    "#scaler = RobustScaler()\n",
    "#scaler = StandardScaler()"
   ]
  },
  {
   "cell_type": "code",
   "execution_count": 13,
   "id": "8d591217",
   "metadata": {},
   "outputs": [],
   "source": [
    "def scaleData(trainData, testData, trainCols, testCols, scaler):\n",
    "    trainData = pd.DataFrame(scaler.fit_transform(trainData[trainCols]), columns= trainCols)\n",
    "    #trainData = pd.concat([trainData, pd.DataFrame(y)], axis=1)\n",
    "    testData = pd.DataFrame(scaler.fit_transform(testData[testCols]), columns= testCols)\n",
    "    return trainData, testData"
   ]
  },
  {
   "cell_type": "markdown",
   "id": "abe5f8e8",
   "metadata": {},
   "source": [
    "# Удаление малополезных признаков"
   ]
  },
  {
   "cell_type": "code",
   "execution_count": 14,
   "id": "7f4982b9",
   "metadata": {},
   "outputs": [],
   "source": [
    "def dropZeros(alldata):\n",
    "    drop=[]\n",
    "    for c in alldata.columns:\n",
    "        if len(alldata[c].value_counts(dropna=False))==1:\n",
    "            drop.append(c)\n",
    "    return alldata,drop"
   ]
  },
  {
   "cell_type": "markdown",
   "id": "52a50b9c",
   "metadata": {},
   "source": [
    "# Выбор функций"
   ]
  },
  {
   "cell_type": "code",
   "execution_count": 15,
   "id": "cf62b1e7",
   "metadata": {},
   "outputs": [
    {
     "data": {
      "text/plain": [
       "(1456, 162)"
      ]
     },
     "execution_count": 15,
     "metadata": {},
     "output_type": "execute_result"
    }
   ],
   "source": [
    "train.shape"
   ]
  },
  {
   "cell_type": "code",
   "execution_count": 16,
   "id": "4d162688",
   "metadata": {},
   "outputs": [
    {
     "data": {
      "text/plain": [
       "(1459, 161)"
      ]
     },
     "execution_count": 16,
     "metadata": {},
     "output_type": "execute_result"
    }
   ],
   "source": [
    "test.shape"
   ]
  },
  {
   "cell_type": "code",
   "execution_count": 17,
   "id": "6a466a25",
   "metadata": {},
   "outputs": [],
   "source": [
    "train_transform = copy.deepcopy(train)\n",
    "test_transform = copy.deepcopy(test)"
   ]
  },
  {
   "cell_type": "markdown",
   "id": "8c3c98b0",
   "metadata": {},
   "source": [
    "### Проекция числовых на категории"
   ]
  },
  {
   "cell_type": "code",
   "execution_count": 18,
   "id": "15793170",
   "metadata": {},
   "outputs": [],
   "source": [
    "train_transform = do_proj_num(train_transform)\n",
    "test_transform = do_proj_num(test_transform)"
   ]
  },
  {
   "cell_type": "markdown",
   "id": "3835a994",
   "metadata": {},
   "source": [
    "### Трансформация числовых"
   ]
  },
  {
   "cell_type": "code",
   "execution_count": 19,
   "id": "62c9d24f",
   "metadata": {},
   "outputs": [],
   "source": [
    "categorical_features = train_transform.select_dtypes(include = [\"object\"]).columns\n",
    "numerical_features = train_transform.select_dtypes(exclude = [\"object\"]).columns\n",
    "numerical_features = numerical_features.drop(\"SalePrice\", \"Id\")"
   ]
  },
  {
   "cell_type": "code",
   "execution_count": 20,
   "id": "0c54255e",
   "metadata": {},
   "outputs": [
    {
     "name": "stdout",
     "output_type": "stream",
     "text": [
      "There are 69 numerical features with Skew > 0.5 :\n"
     ]
    },
    {
     "data": {
      "text/plain": [
       "SimplPoolQC       26.299727\n",
       "MiscVal           24.418175\n",
       "SimplPoolScore    23.689546\n",
       "PoolScore         19.568931\n",
       "PoolQCnum         19.510633\n",
       "PoolArea          17.504556\n",
       "LotArea           12.574590\n",
       "3SsnPorch         10.279262\n",
       "LowQualFinSF       8.989291\n",
       "TotalBsmtSF-3      5.822403\n",
       "dtype: float64"
      ]
     },
     "execution_count": 20,
     "metadata": {},
     "output_type": "execute_result"
    }
   ],
   "source": [
    "# Find skewed numerical features\n",
    "skew_features = train_transform[numerical_features].apply(lambda x: skew(x)).sort_values(ascending=False)\n",
    "\n",
    "high_skew = skew_features[skew_features > 0.5]\n",
    "skew_index = high_skew.index\n",
    "\n",
    "print(\"There are {} numerical features with Skew > 0.5 :\".format(high_skew.shape[0]))\n",
    "skewness = pd.DataFrame({'Skew' :high_skew})\n",
    "skew_features.head(10)"
   ]
  },
  {
   "cell_type": "code",
   "execution_count": 21,
   "id": "b274a299",
   "metadata": {},
   "outputs": [],
   "source": [
    "train_transform = transformContinuous(train_transform, skew_index)\n",
    "test_transform = transformContinuous(test_transform, skew_index)"
   ]
  },
  {
   "cell_type": "markdown",
   "id": "f34aa9e4",
   "metadata": {},
   "source": [
    "### Бининг"
   ]
  },
  {
   "cell_type": "code",
   "execution_count": 22,
   "id": "a60ac8a9",
   "metadata": {},
   "outputs": [],
   "source": [
    "train_transform, npdict = neighborHoodScore(train_transform)\n",
    "test_transform = neighborHoodScore(test_transform, npdict)"
   ]
  },
  {
   "cell_type": "markdown",
   "id": "08f01483",
   "metadata": {},
   "source": [
    "### Кодирование категорий"
   ]
  },
  {
   "cell_type": "code",
   "execution_count": 23,
   "id": "30d3971b",
   "metadata": {},
   "outputs": [
    {
     "name": "stdout",
     "output_type": "stream",
     "text": [
      "43 categorical columns\n",
      "Index(['MSZoning', 'Street', 'Alley', 'LotShape', 'LandContour', 'Utilities',\n",
      "       'LotConfig', 'LandSlope', 'Neighborhood', 'Condition1', 'Condition2',\n",
      "       'BldgType', 'HouseStyle', 'RoofStyle', 'RoofMatl', 'Exterior1st',\n",
      "       'Exterior2nd', 'MasVnrType', 'ExterQual', 'ExterCond', 'Foundation',\n",
      "       'BsmtQual', 'BsmtCond', 'BsmtExposure', 'BsmtFinType1', 'BsmtFinType2',\n",
      "       'Heating', 'HeatingQC', 'CentralAir', 'Electrical', 'KitchenQual',\n",
      "       'Functional', 'FireplaceQu', 'GarageType', 'GarageFinish', 'GarageQual',\n",
      "       'GarageCond', 'PavedDrive', 'PoolQC', 'Fence', 'MiscFeature',\n",
      "       'SaleType', 'SaleCondition'],\n",
      "      dtype='object')\n",
      "Total Columns: 383\n",
      "<class 'pandas.core.frame.DataFrame'>\n",
      "RangeIndex: 1456 entries, 0 to 1455\n",
      "Columns: 383 entries, Id to SaleCondition_Partial\n",
      "dtypes: float64(18), int64(101), uint8(264)\n",
      "memory usage: 1.7 MB\n",
      "None\n",
      "43 categorical columns\n",
      "Index(['MSZoning', 'Street', 'Alley', 'LotShape', 'LandContour', 'Utilities',\n",
      "       'LotConfig', 'LandSlope', 'Neighborhood', 'Condition1', 'Condition2',\n",
      "       'BldgType', 'HouseStyle', 'RoofStyle', 'RoofMatl', 'Exterior1st',\n",
      "       'Exterior2nd', 'MasVnrType', 'ExterQual', 'ExterCond', 'Foundation',\n",
      "       'BsmtQual', 'BsmtCond', 'BsmtExposure', 'BsmtFinType1', 'BsmtFinType2',\n",
      "       'Heating', 'HeatingQC', 'CentralAir', 'Electrical', 'KitchenQual',\n",
      "       'Functional', 'FireplaceQu', 'GarageType', 'GarageFinish', 'GarageQual',\n",
      "       'GarageCond', 'PavedDrive', 'PoolQC', 'Fence', 'MiscFeature',\n",
      "       'SaleType', 'SaleCondition'],\n",
      "      dtype='object')\n",
      "Total Columns: 365\n",
      "<class 'pandas.core.frame.DataFrame'>\n",
      "RangeIndex: 1459 entries, 0 to 1458\n",
      "Columns: 365 entries, Id to SaleCondition_Partial\n",
      "dtypes: float64(35), int64(83), uint8(247)\n",
      "memory usage: 1.7 MB\n",
      "None\n"
     ]
    }
   ],
   "source": [
    "train_transform, _ = one_hot_encode(train)\n",
    "test_transform, _ = one_hot_encode(test)"
   ]
  },
  {
   "cell_type": "markdown",
   "id": "978b0e74",
   "metadata": {},
   "source": [
    "### Масштабирование"
   ]
  },
  {
   "cell_type": "code",
   "execution_count": 24,
   "id": "a83cbf85",
   "metadata": {},
   "outputs": [],
   "source": [
    "blocklist = list(train_transform.columns[(train_transform.sum()==2)])+list(train_transform.columns[(train_transform.sum()==0)])+list(train_transform.columns[(train_transform.sum()==1)])\n",
    "scaleTrainVars=[x for x in train_transform.columns if x!='SalePrice' and x!='Id']\n",
    "scaleTestvars=[x for x in test_transform.columns if x!='Id']\n",
    "trainvars=[x for x in train_transform.columns if x!='SalePrice']\n",
    "trainvars = [x for x in trainvars if x not in blocklist]\n",
    "trainalldrop = []"
   ]
  },
  {
   "cell_type": "code",
   "execution_count": 25,
   "id": "91fccd06",
   "metadata": {},
   "outputs": [],
   "source": [
    "#train_transform[scaleTrainVars], test_transform[scaleTestvars] = scaleData(train_transform, test_transform, scaleTrainVars, scaleTestvars, scaler)"
   ]
  },
  {
   "cell_type": "code",
   "execution_count": 26,
   "id": "f1898e8f",
   "metadata": {},
   "outputs": [
    {
     "data": {
      "text/plain": [
       "0          1\n",
       "1          2\n",
       "2          3\n",
       "3          4\n",
       "4          5\n",
       "        ... \n",
       "1451    1456\n",
       "1452    1457\n",
       "1453    1458\n",
       "1454    1459\n",
       "1455    1460\n",
       "Name: Id, Length: 1456, dtype: int64"
      ]
     },
     "execution_count": 26,
     "metadata": {},
     "output_type": "execute_result"
    }
   ],
   "source": [
    "train_transform['Id']"
   ]
  },
  {
   "cell_type": "markdown",
   "id": "7094cb5b",
   "metadata": {},
   "source": [
    "### Удаление малополезных признаков"
   ]
  },
  {
   "cell_type": "code",
   "execution_count": 27,
   "id": "713b8f8c",
   "metadata": {},
   "outputs": [],
   "source": [
    "for c in trainvars:\n",
    "    if c not in test_transform.columns:\n",
    "        if c!='SalePrice':\n",
    "            trainalldrop.append(c)\n",
    "            trainvars.remove(c)"
   ]
  },
  {
   "cell_type": "code",
   "execution_count": 28,
   "id": "d388c49c",
   "metadata": {},
   "outputs": [
    {
     "data": {
      "text/plain": [
       "['HouseStyle_2.5Fin', 'GarageQual_Ex']"
      ]
     },
     "execution_count": 28,
     "metadata": {},
     "output_type": "execute_result"
    }
   ],
   "source": [
    "trainalldrop"
   ]
  },
  {
   "cell_type": "code",
   "execution_count": 29,
   "id": "5561f301",
   "metadata": {},
   "outputs": [],
   "source": [
    "train_transform, dropTrain = dropZeros(train_transform)\n",
    "test_transform, dropTest = dropZeros(test_transform)"
   ]
  },
  {
   "cell_type": "code",
   "execution_count": 30,
   "id": "89382d4d",
   "metadata": {},
   "outputs": [],
   "source": [
    "test_transform = test_transform[trainvars]"
   ]
  },
  {
   "cell_type": "code",
   "execution_count": 31,
   "id": "651163b4",
   "metadata": {},
   "outputs": [],
   "source": [
    "trainvars.append('SalePrice')\n",
    "train_transform = train_transform[trainvars]"
   ]
  },
  {
   "cell_type": "markdown",
   "id": "0b8e1369",
   "metadata": {},
   "source": [
    "### Сохранение результатов"
   ]
  },
  {
   "cell_type": "code",
   "execution_count": 32,
   "id": "b520b0ed",
   "metadata": {
    "scrolled": true
   },
   "outputs": [
    {
     "data": {
      "text/html": [
       "<div>\n",
       "<style scoped>\n",
       "    .dataframe tbody tr th:only-of-type {\n",
       "        vertical-align: middle;\n",
       "    }\n",
       "\n",
       "    .dataframe tbody tr th {\n",
       "        vertical-align: top;\n",
       "    }\n",
       "\n",
       "    .dataframe thead th {\n",
       "        text-align: right;\n",
       "    }\n",
       "</style>\n",
       "<table border=\"1\" class=\"dataframe\">\n",
       "  <thead>\n",
       "    <tr style=\"text-align: right;\">\n",
       "      <th></th>\n",
       "      <th>Id</th>\n",
       "      <th>MSSubClass</th>\n",
       "      <th>LotFrontage</th>\n",
       "      <th>LotArea</th>\n",
       "      <th>OverallQual</th>\n",
       "      <th>OverallCond</th>\n",
       "      <th>YearBuilt</th>\n",
       "      <th>YearRemodAdd</th>\n",
       "      <th>MasVnrArea</th>\n",
       "      <th>BsmtFinSF1</th>\n",
       "      <th>...</th>\n",
       "      <th>SaleType_New</th>\n",
       "      <th>SaleType_Oth</th>\n",
       "      <th>SaleType_WD</th>\n",
       "      <th>SaleCondition_Abnorml</th>\n",
       "      <th>SaleCondition_AdjLand</th>\n",
       "      <th>SaleCondition_Alloca</th>\n",
       "      <th>SaleCondition_Family</th>\n",
       "      <th>SaleCondition_Normal</th>\n",
       "      <th>SaleCondition_Partial</th>\n",
       "      <th>SalePrice</th>\n",
       "    </tr>\n",
       "  </thead>\n",
       "  <tbody>\n",
       "    <tr>\n",
       "      <th>0</th>\n",
       "      <td>1</td>\n",
       "      <td>60</td>\n",
       "      <td>65.0</td>\n",
       "      <td>8450</td>\n",
       "      <td>7</td>\n",
       "      <td>5</td>\n",
       "      <td>7</td>\n",
       "      <td>7</td>\n",
       "      <td>196.0</td>\n",
       "      <td>706</td>\n",
       "      <td>...</td>\n",
       "      <td>0</td>\n",
       "      <td>0</td>\n",
       "      <td>1</td>\n",
       "      <td>0</td>\n",
       "      <td>0</td>\n",
       "      <td>0</td>\n",
       "      <td>0</td>\n",
       "      <td>1</td>\n",
       "      <td>0</td>\n",
       "      <td>208500</td>\n",
       "    </tr>\n",
       "    <tr>\n",
       "      <th>1</th>\n",
       "      <td>2</td>\n",
       "      <td>20</td>\n",
       "      <td>80.0</td>\n",
       "      <td>9600</td>\n",
       "      <td>6</td>\n",
       "      <td>8</td>\n",
       "      <td>34</td>\n",
       "      <td>34</td>\n",
       "      <td>0.0</td>\n",
       "      <td>978</td>\n",
       "      <td>...</td>\n",
       "      <td>0</td>\n",
       "      <td>0</td>\n",
       "      <td>1</td>\n",
       "      <td>0</td>\n",
       "      <td>0</td>\n",
       "      <td>0</td>\n",
       "      <td>0</td>\n",
       "      <td>1</td>\n",
       "      <td>0</td>\n",
       "      <td>181500</td>\n",
       "    </tr>\n",
       "    <tr>\n",
       "      <th>2</th>\n",
       "      <td>3</td>\n",
       "      <td>60</td>\n",
       "      <td>68.0</td>\n",
       "      <td>11250</td>\n",
       "      <td>7</td>\n",
       "      <td>5</td>\n",
       "      <td>9</td>\n",
       "      <td>8</td>\n",
       "      <td>162.0</td>\n",
       "      <td>486</td>\n",
       "      <td>...</td>\n",
       "      <td>0</td>\n",
       "      <td>0</td>\n",
       "      <td>1</td>\n",
       "      <td>0</td>\n",
       "      <td>0</td>\n",
       "      <td>0</td>\n",
       "      <td>0</td>\n",
       "      <td>1</td>\n",
       "      <td>0</td>\n",
       "      <td>223500</td>\n",
       "    </tr>\n",
       "    <tr>\n",
       "      <th>3</th>\n",
       "      <td>4</td>\n",
       "      <td>70</td>\n",
       "      <td>60.0</td>\n",
       "      <td>9550</td>\n",
       "      <td>7</td>\n",
       "      <td>5</td>\n",
       "      <td>95</td>\n",
       "      <td>40</td>\n",
       "      <td>0.0</td>\n",
       "      <td>216</td>\n",
       "      <td>...</td>\n",
       "      <td>0</td>\n",
       "      <td>0</td>\n",
       "      <td>1</td>\n",
       "      <td>1</td>\n",
       "      <td>0</td>\n",
       "      <td>0</td>\n",
       "      <td>0</td>\n",
       "      <td>0</td>\n",
       "      <td>0</td>\n",
       "      <td>140000</td>\n",
       "    </tr>\n",
       "    <tr>\n",
       "      <th>4</th>\n",
       "      <td>5</td>\n",
       "      <td>60</td>\n",
       "      <td>84.0</td>\n",
       "      <td>14260</td>\n",
       "      <td>8</td>\n",
       "      <td>5</td>\n",
       "      <td>10</td>\n",
       "      <td>10</td>\n",
       "      <td>350.0</td>\n",
       "      <td>655</td>\n",
       "      <td>...</td>\n",
       "      <td>0</td>\n",
       "      <td>0</td>\n",
       "      <td>1</td>\n",
       "      <td>0</td>\n",
       "      <td>0</td>\n",
       "      <td>0</td>\n",
       "      <td>0</td>\n",
       "      <td>1</td>\n",
       "      <td>0</td>\n",
       "      <td>250000</td>\n",
       "    </tr>\n",
       "  </tbody>\n",
       "</table>\n",
       "<p>5 rows × 346 columns</p>\n",
       "</div>"
      ],
      "text/plain": [
       "   Id  MSSubClass  LotFrontage  LotArea  OverallQual  OverallCond  YearBuilt  \\\n",
       "0   1          60         65.0     8450            7            5          7   \n",
       "1   2          20         80.0     9600            6            8         34   \n",
       "2   3          60         68.0    11250            7            5          9   \n",
       "3   4          70         60.0     9550            7            5         95   \n",
       "4   5          60         84.0    14260            8            5         10   \n",
       "\n",
       "   YearRemodAdd  MasVnrArea  BsmtFinSF1  ...  SaleType_New  SaleType_Oth  \\\n",
       "0             7       196.0         706  ...             0             0   \n",
       "1            34         0.0         978  ...             0             0   \n",
       "2             8       162.0         486  ...             0             0   \n",
       "3            40         0.0         216  ...             0             0   \n",
       "4            10       350.0         655  ...             0             0   \n",
       "\n",
       "   SaleType_WD  SaleCondition_Abnorml  SaleCondition_AdjLand  \\\n",
       "0            1                      0                      0   \n",
       "1            1                      0                      0   \n",
       "2            1                      0                      0   \n",
       "3            1                      1                      0   \n",
       "4            1                      0                      0   \n",
       "\n",
       "   SaleCondition_Alloca  SaleCondition_Family  SaleCondition_Normal  \\\n",
       "0                     0                     0                     1   \n",
       "1                     0                     0                     1   \n",
       "2                     0                     0                     1   \n",
       "3                     0                     0                     0   \n",
       "4                     0                     0                     1   \n",
       "\n",
       "   SaleCondition_Partial  SalePrice  \n",
       "0                      0     208500  \n",
       "1                      0     181500  \n",
       "2                      0     223500  \n",
       "3                      0     140000  \n",
       "4                      0     250000  \n",
       "\n",
       "[5 rows x 346 columns]"
      ]
     },
     "execution_count": 32,
     "metadata": {},
     "output_type": "execute_result"
    }
   ],
   "source": [
    "train_transform.head()"
   ]
  },
  {
   "cell_type": "code",
   "execution_count": 33,
   "id": "2a80eb24",
   "metadata": {},
   "outputs": [
    {
     "data": {
      "text/html": [
       "<div>\n",
       "<style scoped>\n",
       "    .dataframe tbody tr th:only-of-type {\n",
       "        vertical-align: middle;\n",
       "    }\n",
       "\n",
       "    .dataframe tbody tr th {\n",
       "        vertical-align: top;\n",
       "    }\n",
       "\n",
       "    .dataframe thead th {\n",
       "        text-align: right;\n",
       "    }\n",
       "</style>\n",
       "<table border=\"1\" class=\"dataframe\">\n",
       "  <thead>\n",
       "    <tr style=\"text-align: right;\">\n",
       "      <th></th>\n",
       "      <th>Id</th>\n",
       "      <th>MSSubClass</th>\n",
       "      <th>LotFrontage</th>\n",
       "      <th>LotArea</th>\n",
       "      <th>OverallQual</th>\n",
       "      <th>OverallCond</th>\n",
       "      <th>YearBuilt</th>\n",
       "      <th>YearRemodAdd</th>\n",
       "      <th>MasVnrArea</th>\n",
       "      <th>BsmtFinSF1</th>\n",
       "      <th>...</th>\n",
       "      <th>SaleType_ConLw</th>\n",
       "      <th>SaleType_New</th>\n",
       "      <th>SaleType_Oth</th>\n",
       "      <th>SaleType_WD</th>\n",
       "      <th>SaleCondition_Abnorml</th>\n",
       "      <th>SaleCondition_AdjLand</th>\n",
       "      <th>SaleCondition_Alloca</th>\n",
       "      <th>SaleCondition_Family</th>\n",
       "      <th>SaleCondition_Normal</th>\n",
       "      <th>SaleCondition_Partial</th>\n",
       "    </tr>\n",
       "  </thead>\n",
       "  <tbody>\n",
       "    <tr>\n",
       "      <th>0</th>\n",
       "      <td>1461</td>\n",
       "      <td>20</td>\n",
       "      <td>80.0</td>\n",
       "      <td>11622</td>\n",
       "      <td>5</td>\n",
       "      <td>6</td>\n",
       "      <td>49</td>\n",
       "      <td>49</td>\n",
       "      <td>0.0</td>\n",
       "      <td>468.0</td>\n",
       "      <td>...</td>\n",
       "      <td>0</td>\n",
       "      <td>0</td>\n",
       "      <td>0</td>\n",
       "      <td>1</td>\n",
       "      <td>0</td>\n",
       "      <td>0</td>\n",
       "      <td>0</td>\n",
       "      <td>0</td>\n",
       "      <td>1</td>\n",
       "      <td>0</td>\n",
       "    </tr>\n",
       "    <tr>\n",
       "      <th>1</th>\n",
       "      <td>1462</td>\n",
       "      <td>20</td>\n",
       "      <td>81.0</td>\n",
       "      <td>14267</td>\n",
       "      <td>6</td>\n",
       "      <td>6</td>\n",
       "      <td>52</td>\n",
       "      <td>52</td>\n",
       "      <td>108.0</td>\n",
       "      <td>923.0</td>\n",
       "      <td>...</td>\n",
       "      <td>0</td>\n",
       "      <td>0</td>\n",
       "      <td>0</td>\n",
       "      <td>1</td>\n",
       "      <td>0</td>\n",
       "      <td>0</td>\n",
       "      <td>0</td>\n",
       "      <td>0</td>\n",
       "      <td>1</td>\n",
       "      <td>0</td>\n",
       "    </tr>\n",
       "    <tr>\n",
       "      <th>2</th>\n",
       "      <td>1463</td>\n",
       "      <td>60</td>\n",
       "      <td>74.0</td>\n",
       "      <td>13830</td>\n",
       "      <td>5</td>\n",
       "      <td>5</td>\n",
       "      <td>13</td>\n",
       "      <td>12</td>\n",
       "      <td>0.0</td>\n",
       "      <td>791.0</td>\n",
       "      <td>...</td>\n",
       "      <td>0</td>\n",
       "      <td>0</td>\n",
       "      <td>0</td>\n",
       "      <td>1</td>\n",
       "      <td>0</td>\n",
       "      <td>0</td>\n",
       "      <td>0</td>\n",
       "      <td>0</td>\n",
       "      <td>1</td>\n",
       "      <td>0</td>\n",
       "    </tr>\n",
       "    <tr>\n",
       "      <th>3</th>\n",
       "      <td>1464</td>\n",
       "      <td>60</td>\n",
       "      <td>78.0</td>\n",
       "      <td>9978</td>\n",
       "      <td>6</td>\n",
       "      <td>6</td>\n",
       "      <td>12</td>\n",
       "      <td>12</td>\n",
       "      <td>20.0</td>\n",
       "      <td>602.0</td>\n",
       "      <td>...</td>\n",
       "      <td>0</td>\n",
       "      <td>0</td>\n",
       "      <td>0</td>\n",
       "      <td>1</td>\n",
       "      <td>0</td>\n",
       "      <td>0</td>\n",
       "      <td>0</td>\n",
       "      <td>0</td>\n",
       "      <td>1</td>\n",
       "      <td>0</td>\n",
       "    </tr>\n",
       "    <tr>\n",
       "      <th>4</th>\n",
       "      <td>1465</td>\n",
       "      <td>120</td>\n",
       "      <td>43.0</td>\n",
       "      <td>5005</td>\n",
       "      <td>8</td>\n",
       "      <td>5</td>\n",
       "      <td>18</td>\n",
       "      <td>18</td>\n",
       "      <td>0.0</td>\n",
       "      <td>263.0</td>\n",
       "      <td>...</td>\n",
       "      <td>0</td>\n",
       "      <td>0</td>\n",
       "      <td>0</td>\n",
       "      <td>1</td>\n",
       "      <td>0</td>\n",
       "      <td>0</td>\n",
       "      <td>0</td>\n",
       "      <td>0</td>\n",
       "      <td>1</td>\n",
       "      <td>0</td>\n",
       "    </tr>\n",
       "  </tbody>\n",
       "</table>\n",
       "<p>5 rows × 345 columns</p>\n",
       "</div>"
      ],
      "text/plain": [
       "     Id  MSSubClass  LotFrontage  LotArea  OverallQual  OverallCond  \\\n",
       "0  1461          20         80.0    11622            5            6   \n",
       "1  1462          20         81.0    14267            6            6   \n",
       "2  1463          60         74.0    13830            5            5   \n",
       "3  1464          60         78.0     9978            6            6   \n",
       "4  1465         120         43.0     5005            8            5   \n",
       "\n",
       "   YearBuilt  YearRemodAdd  MasVnrArea  BsmtFinSF1  ...  SaleType_ConLw  \\\n",
       "0         49            49         0.0       468.0  ...               0   \n",
       "1         52            52       108.0       923.0  ...               0   \n",
       "2         13            12         0.0       791.0  ...               0   \n",
       "3         12            12        20.0       602.0  ...               0   \n",
       "4         18            18         0.0       263.0  ...               0   \n",
       "\n",
       "   SaleType_New  SaleType_Oth  SaleType_WD  SaleCondition_Abnorml  \\\n",
       "0             0             0            1                      0   \n",
       "1             0             0            1                      0   \n",
       "2             0             0            1                      0   \n",
       "3             0             0            1                      0   \n",
       "4             0             0            1                      0   \n",
       "\n",
       "   SaleCondition_AdjLand  SaleCondition_Alloca  SaleCondition_Family  \\\n",
       "0                      0                     0                     0   \n",
       "1                      0                     0                     0   \n",
       "2                      0                     0                     0   \n",
       "3                      0                     0                     0   \n",
       "4                      0                     0                     0   \n",
       "\n",
       "   SaleCondition_Normal  SaleCondition_Partial  \n",
       "0                     1                      0  \n",
       "1                     1                      0  \n",
       "2                     1                      0  \n",
       "3                     1                      0  \n",
       "4                     1                      0  \n",
       "\n",
       "[5 rows x 345 columns]"
      ]
     },
     "execution_count": 33,
     "metadata": {},
     "output_type": "execute_result"
    }
   ],
   "source": [
    "test_transform.head()"
   ]
  },
  {
   "cell_type": "code",
   "execution_count": 34,
   "id": "bff97a4d",
   "metadata": {},
   "outputs": [
    {
     "data": {
      "text/plain": [
       "(1456, 346)"
      ]
     },
     "execution_count": 34,
     "metadata": {},
     "output_type": "execute_result"
    }
   ],
   "source": [
    "train_transform.shape"
   ]
  },
  {
   "cell_type": "code",
   "execution_count": 35,
   "id": "44525ad8",
   "metadata": {},
   "outputs": [
    {
     "data": {
      "text/plain": [
       "(1459, 345)"
      ]
     },
     "execution_count": 35,
     "metadata": {},
     "output_type": "execute_result"
    }
   ],
   "source": [
    "test_transform.shape"
   ]
  },
  {
   "cell_type": "code",
   "execution_count": 36,
   "id": "d927133f",
   "metadata": {},
   "outputs": [],
   "source": [
    "#train_transform.to_csv(\"transform/train_transform_after_preparation.csv\", index = False)\n",
    "#test_transform.to_csv(\"transform/test_transform_after_preparation.csv\", index = False)"
   ]
  },
  {
   "cell_type": "code",
   "execution_count": 37,
   "id": "33ed999e",
   "metadata": {},
   "outputs": [],
   "source": [
    "train_transform.to_feather(\"transform/train_transform_after_preparation.feather\")\n",
    "test_transform.to_feather(\"transform/test_transform_after_preparation.feather\")"
   ]
  }
 ],
 "metadata": {
  "kernelspec": {
   "display_name": "Python 3 (ipykernel)",
   "language": "python",
   "name": "python3"
  },
  "language_info": {
   "codemirror_mode": {
    "name": "ipython",
    "version": 3
   },
   "file_extension": ".py",
   "mimetype": "text/x-python",
   "name": "python",
   "nbconvert_exporter": "python",
   "pygments_lexer": "ipython3",
   "version": "3.8.10"
  }
 },
 "nbformat": 4,
 "nbformat_minor": 5
}
