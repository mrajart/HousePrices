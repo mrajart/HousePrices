{
 "cells": [
  {
   "cell_type": "code",
   "execution_count": 1,
   "id": "70f94f4d",
   "metadata": {},
   "outputs": [],
   "source": [
    "import pandas as pd\n",
    "import numpy as np\n",
    "import matplotlib.pyplot as plt\n",
    "import seaborn as sns\n",
    "import copy\n",
    "%matplotlib inline"
   ]
  },
  {
   "cell_type": "code",
   "execution_count": 2,
   "id": "c06cdf15",
   "metadata": {},
   "outputs": [],
   "source": [
    "import warnings\n",
    "warnings.filterwarnings(action=\"ignore\")"
   ]
  },
  {
   "cell_type": "code",
   "execution_count": 3,
   "id": "91c43582",
   "metadata": {},
   "outputs": [],
   "source": [
    "np.random.seed(21)"
   ]
  },
  {
   "cell_type": "code",
   "execution_count": 4,
   "id": "4bd964eb",
   "metadata": {},
   "outputs": [],
   "source": [
    "train = pd.read_csv(\"input/train.csv\")\n",
    "test = pd.read_csv(\"input/test.csv\")"
   ]
  },
  {
   "cell_type": "code",
   "execution_count": 5,
   "id": "502c8a7f",
   "metadata": {},
   "outputs": [
    {
     "data": {
      "text/plain": [
       "(1460, 81)"
      ]
     },
     "execution_count": 5,
     "metadata": {},
     "output_type": "execute_result"
    }
   ],
   "source": [
    "train.shape"
   ]
  },
  {
   "cell_type": "code",
   "execution_count": 6,
   "id": "a11d2b48",
   "metadata": {},
   "outputs": [
    {
     "data": {
      "text/plain": [
       "(1459, 80)"
      ]
     },
     "execution_count": 6,
     "metadata": {},
     "output_type": "execute_result"
    }
   ],
   "source": [
    "test.shape"
   ]
  },
  {
   "cell_type": "markdown",
   "id": "d78fbee1",
   "metadata": {},
   "source": [
    "# Duplicates"
   ]
  },
  {
   "cell_type": "code",
   "execution_count": 7,
   "id": "20318b99",
   "metadata": {},
   "outputs": [],
   "source": [
    "def check_duplicates(data):\n",
    "    idsUnique = len(set(data.Id))\n",
    "    idsTotal = data.shape[0]\n",
    "    idsDupli = idsTotal - idsUnique\n",
    "    print(\"There are \" + str(idsDupli) + \" duplicate IDs for \" + str(idsTotal) + \" total entries\")"
   ]
  },
  {
   "cell_type": "code",
   "execution_count": 8,
   "id": "a8be4352",
   "metadata": {},
   "outputs": [
    {
     "name": "stdout",
     "output_type": "stream",
     "text": [
      "There are 0 duplicate IDs for 1460 total entries\n"
     ]
    }
   ],
   "source": [
    "check_duplicates(train)"
   ]
  },
  {
   "cell_type": "code",
   "execution_count": 9,
   "id": "113cf48d",
   "metadata": {},
   "outputs": [
    {
     "name": "stdout",
     "output_type": "stream",
     "text": [
      "There are 0 duplicate IDs for 1459 total entries\n"
     ]
    }
   ],
   "source": [
    "check_duplicates(test)"
   ]
  },
  {
   "cell_type": "markdown",
   "id": "eddd7bb5",
   "metadata": {},
   "source": [
    "# Outliers"
   ]
  },
  {
   "cell_type": "markdown",
   "id": "63aafd57",
   "metadata": {},
   "source": [
    "There seems to be 2 extreme outliers on the bottom right, really large houses that sold for really cheap. More generally, the author of the dataset recommends removing 'any houses with more than 4000 square feet' from the dataset.\n",
    "Reference : https://ww2.amstat.org/publications/jse/v19n3/decock.pdf"
   ]
  },
  {
   "cell_type": "code",
   "execution_count": 10,
   "id": "4dbdf6cc",
   "metadata": {},
   "outputs": [
    {
     "data": {
      "image/png": "[encoded data removed]",
      "text/plain": [
       "<Figure size 432x288 with 1 Axes>"
      ]
     },
     "metadata": {
      "needs_background": "light"
     },
     "output_type": "display_data"
    }
   ],
   "source": [
    "plt.scatter(train.GrLivArea, train.SalePrice, c = \"blue\", marker = \"s\")\n",
    "plt.title(\"Looking for outliers\")\n",
    "plt.xlabel(\"GrLivArea\")\n",
    "plt.ylabel(\"SalePrice\")\n",
    "plt.show()"
   ]
  },
  {
   "cell_type": "code",
   "execution_count": 12,
   "id": "ba619dd2",
   "metadata": {},
   "outputs": [],
   "source": [
    "def drop_outliers(alldata):\n",
    "    alldata = alldata[alldata.GrLivArea < 4000]\n",
    "    return alldata"
   ]
  },
  {
   "cell_type": "code",
   "execution_count": 16,
   "id": "b6f6b25e",
   "metadata": {},
   "outputs": [
    {
     "data": {
      "text/html": [
       "<div>\n",
       "<style scoped>\n",
       "    .dataframe tbody tr th:only-of-type {\n",
       "        vertical-align: middle;\n",
       "    }\n",
       "\n",
       "    .dataframe tbody tr th {\n",
       "        vertical-align: top;\n",
       "    }\n",
       "\n",
       "    .dataframe thead th {\n",
       "        text-align: right;\n",
       "    }\n",
       "</style>\n",
       "<table border=\"1\" class=\"dataframe\">\n",
       "  <thead>\n",
       "    <tr style=\"text-align: right;\">\n",
       "      <th></th>\n",
       "      <th>Id</th>\n",
       "      <th>MSSubClass</th>\n",
       "      <th>MSZoning</th>\n",
       "      <th>LotFrontage</th>\n",
       "      <th>LotArea</th>\n",
       "      <th>Street</th>\n",
       "      <th>Alley</th>\n",
       "      <th>LotShape</th>\n",
       "      <th>LandContour</th>\n",
       "      <th>Utilities</th>\n",
       "      <th>...</th>\n",
       "      <th>PoolArea</th>\n",
       "      <th>PoolQC</th>\n",
       "      <th>Fence</th>\n",
       "      <th>MiscFeature</th>\n",
       "      <th>MiscVal</th>\n",
       "      <th>MoSold</th>\n",
       "      <th>YrSold</th>\n",
       "      <th>SaleType</th>\n",
       "      <th>SaleCondition</th>\n",
       "      <th>SalePrice</th>\n",
       "    </tr>\n",
       "  </thead>\n",
       "  <tbody>\n",
       "    <tr>\n",
       "      <th>523</th>\n",
       "      <td>524</td>\n",
       "      <td>60</td>\n",
       "      <td>RL</td>\n",
       "      <td>130.0</td>\n",
       "      <td>40094</td>\n",
       "      <td>Pave</td>\n",
       "      <td>NaN</td>\n",
       "      <td>IR1</td>\n",
       "      <td>Bnk</td>\n",
       "      <td>AllPub</td>\n",
       "      <td>...</td>\n",
       "      <td>0</td>\n",
       "      <td>NaN</td>\n",
       "      <td>NaN</td>\n",
       "      <td>NaN</td>\n",
       "      <td>0</td>\n",
       "      <td>10</td>\n",
       "      <td>2007</td>\n",
       "      <td>New</td>\n",
       "      <td>Partial</td>\n",
       "      <td>184750</td>\n",
       "    </tr>\n",
       "    <tr>\n",
       "      <th>691</th>\n",
       "      <td>692</td>\n",
       "      <td>60</td>\n",
       "      <td>RL</td>\n",
       "      <td>104.0</td>\n",
       "      <td>21535</td>\n",
       "      <td>Pave</td>\n",
       "      <td>NaN</td>\n",
       "      <td>IR1</td>\n",
       "      <td>Lvl</td>\n",
       "      <td>AllPub</td>\n",
       "      <td>...</td>\n",
       "      <td>0</td>\n",
       "      <td>NaN</td>\n",
       "      <td>NaN</td>\n",
       "      <td>NaN</td>\n",
       "      <td>0</td>\n",
       "      <td>1</td>\n",
       "      <td>2007</td>\n",
       "      <td>WD</td>\n",
       "      <td>Normal</td>\n",
       "      <td>755000</td>\n",
       "    </tr>\n",
       "    <tr>\n",
       "      <th>1182</th>\n",
       "      <td>1183</td>\n",
       "      <td>60</td>\n",
       "      <td>RL</td>\n",
       "      <td>160.0</td>\n",
       "      <td>15623</td>\n",
       "      <td>Pave</td>\n",
       "      <td>NaN</td>\n",
       "      <td>IR1</td>\n",
       "      <td>Lvl</td>\n",
       "      <td>AllPub</td>\n",
       "      <td>...</td>\n",
       "      <td>555</td>\n",
       "      <td>Ex</td>\n",
       "      <td>MnPrv</td>\n",
       "      <td>NaN</td>\n",
       "      <td>0</td>\n",
       "      <td>7</td>\n",
       "      <td>2007</td>\n",
       "      <td>WD</td>\n",
       "      <td>Abnorml</td>\n",
       "      <td>745000</td>\n",
       "    </tr>\n",
       "    <tr>\n",
       "      <th>1298</th>\n",
       "      <td>1299</td>\n",
       "      <td>60</td>\n",
       "      <td>RL</td>\n",
       "      <td>313.0</td>\n",
       "      <td>63887</td>\n",
       "      <td>Pave</td>\n",
       "      <td>NaN</td>\n",
       "      <td>IR3</td>\n",
       "      <td>Bnk</td>\n",
       "      <td>AllPub</td>\n",
       "      <td>...</td>\n",
       "      <td>480</td>\n",
       "      <td>Gd</td>\n",
       "      <td>NaN</td>\n",
       "      <td>NaN</td>\n",
       "      <td>0</td>\n",
       "      <td>1</td>\n",
       "      <td>2008</td>\n",
       "      <td>New</td>\n",
       "      <td>Partial</td>\n",
       "      <td>160000</td>\n",
       "    </tr>\n",
       "  </tbody>\n",
       "</table>\n",
       "<p>4 rows × 81 columns</p>\n",
       "</div>"
      ],
      "text/plain": [
       "        Id  MSSubClass MSZoning  LotFrontage  LotArea Street Alley LotShape  \\\n",
       "523    524          60       RL        130.0    40094   Pave   NaN      IR1   \n",
       "691    692          60       RL        104.0    21535   Pave   NaN      IR1   \n",
       "1182  1183          60       RL        160.0    15623   Pave   NaN      IR1   \n",
       "1298  1299          60       RL        313.0    63887   Pave   NaN      IR3   \n",
       "\n",
       "     LandContour Utilities  ... PoolArea PoolQC  Fence MiscFeature MiscVal  \\\n",
       "523          Bnk    AllPub  ...        0    NaN    NaN         NaN       0   \n",
       "691          Lvl    AllPub  ...        0    NaN    NaN         NaN       0   \n",
       "1182         Lvl    AllPub  ...      555     Ex  MnPrv         NaN       0   \n",
       "1298         Bnk    AllPub  ...      480     Gd    NaN         NaN       0   \n",
       "\n",
       "     MoSold YrSold  SaleType  SaleCondition  SalePrice  \n",
       "523      10   2007       New        Partial     184750  \n",
       "691       1   2007        WD         Normal     755000  \n",
       "1182      7   2007        WD        Abnorml     745000  \n",
       "1298      1   2008       New        Partial     160000  \n",
       "\n",
       "[4 rows x 81 columns]"
      ]
     },
     "execution_count": 16,
     "metadata": {},
     "output_type": "execute_result"
    }
   ],
   "source": [
    "train[train.GrLivArea >= 4000]"
   ]
  },
  {
   "cell_type": "markdown",
   "id": "41e75f7f",
   "metadata": {},
   "source": [
    "# Missing data"
   ]
  },
  {
   "cell_type": "code",
   "execution_count": 12,
   "id": "e6376382",
   "metadata": {},
   "outputs": [],
   "source": [
    "def missing_data_chart(data):\n",
    "    missing = data.isnull().sum()\n",
    "    missing = missing[missing > 0]\n",
    "    missing.sort_values(inplace=True)\n",
    "    missing.plot.bar()"
   ]
  },
  {
   "cell_type": "code",
   "execution_count": 13,
   "id": "a751b953",
   "metadata": {},
   "outputs": [],
   "source": [
    "def missing_data_table(data):\n",
    "    total = data.isnull().sum().sort_values(ascending=False)\n",
    "    percent = (data.isnull().sum() / data.isnull().count()).sort_values(ascending=False)\n",
    "    total = total[total > 0]\n",
    "    percent = percent[percent > 0]\n",
    "    missing_data = pd.concat([total, percent], axis=1, keys=['Total', 'Percent'])\n",
    "    return missing_data.head(30)"
   ]
  },
  {
   "cell_type": "code",
   "execution_count": 14,
   "id": "04a62800",
   "metadata": {},
   "outputs": [
    {
     "data": {
      "image/png": "[encoded data removed]",
      "text/plain": [
       "<Figure size 432x288 with 1 Axes>"
      ]
     },
     "metadata": {
      "needs_background": "light"
     },
     "output_type": "display_data"
    }
   ],
   "source": [
    "missing_data_chart(train)"
   ]
  },
  {
   "cell_type": "code",
   "execution_count": 15,
   "id": "2661d168",
   "metadata": {},
   "outputs": [
    {
     "data": {
      "text/html": [
       "<div>\n",
       "<style scoped>\n",
       "    .dataframe tbody tr th:only-of-type {\n",
       "        vertical-align: middle;\n",
       "    }\n",
       "\n",
       "    .dataframe tbody tr th {\n",
       "        vertical-align: top;\n",
       "    }\n",
       "\n",
       "    .dataframe thead th {\n",
       "        text-align: right;\n",
       "    }\n",
       "</style>\n",
       "<table border=\"1\" class=\"dataframe\">\n",
       "  <thead>\n",
       "    <tr style=\"text-align: right;\">\n",
       "      <th></th>\n",
       "      <th>Total</th>\n",
       "      <th>Percent</th>\n",
       "    </tr>\n",
       "  </thead>\n",
       "  <tbody>\n",
       "    <tr>\n",
       "      <th>PoolQC</th>\n",
       "      <td>1453</td>\n",
       "      <td>0.995205</td>\n",
       "    </tr>\n",
       "    <tr>\n",
       "      <th>MiscFeature</th>\n",
       "      <td>1406</td>\n",
       "      <td>0.963014</td>\n",
       "    </tr>\n",
       "    <tr>\n",
       "      <th>Alley</th>\n",
       "      <td>1369</td>\n",
       "      <td>0.937671</td>\n",
       "    </tr>\n",
       "    <tr>\n",
       "      <th>Fence</th>\n",
       "      <td>1179</td>\n",
       "      <td>0.807534</td>\n",
       "    </tr>\n",
       "    <tr>\n",
       "      <th>FireplaceQu</th>\n",
       "      <td>690</td>\n",
       "      <td>0.472603</td>\n",
       "    </tr>\n",
       "    <tr>\n",
       "      <th>LotFrontage</th>\n",
       "      <td>259</td>\n",
       "      <td>0.177397</td>\n",
       "    </tr>\n",
       "    <tr>\n",
       "      <th>GarageYrBlt</th>\n",
       "      <td>81</td>\n",
       "      <td>0.055479</td>\n",
       "    </tr>\n",
       "    <tr>\n",
       "      <th>GarageCond</th>\n",
       "      <td>81</td>\n",
       "      <td>0.055479</td>\n",
       "    </tr>\n",
       "    <tr>\n",
       "      <th>GarageType</th>\n",
       "      <td>81</td>\n",
       "      <td>0.055479</td>\n",
       "    </tr>\n",
       "    <tr>\n",
       "      <th>GarageFinish</th>\n",
       "      <td>81</td>\n",
       "      <td>0.055479</td>\n",
       "    </tr>\n",
       "    <tr>\n",
       "      <th>GarageQual</th>\n",
       "      <td>81</td>\n",
       "      <td>0.055479</td>\n",
       "    </tr>\n",
       "    <tr>\n",
       "      <th>BsmtFinType2</th>\n",
       "      <td>38</td>\n",
       "      <td>0.026027</td>\n",
       "    </tr>\n",
       "    <tr>\n",
       "      <th>BsmtExposure</th>\n",
       "      <td>38</td>\n",
       "      <td>0.026027</td>\n",
       "    </tr>\n",
       "    <tr>\n",
       "      <th>BsmtQual</th>\n",
       "      <td>37</td>\n",
       "      <td>0.025342</td>\n",
       "    </tr>\n",
       "    <tr>\n",
       "      <th>BsmtCond</th>\n",
       "      <td>37</td>\n",
       "      <td>0.025342</td>\n",
       "    </tr>\n",
       "    <tr>\n",
       "      <th>BsmtFinType1</th>\n",
       "      <td>37</td>\n",
       "      <td>0.025342</td>\n",
       "    </tr>\n",
       "    <tr>\n",
       "      <th>MasVnrArea</th>\n",
       "      <td>8</td>\n",
       "      <td>0.005479</td>\n",
       "    </tr>\n",
       "    <tr>\n",
       "      <th>MasVnrType</th>\n",
       "      <td>8</td>\n",
       "      <td>0.005479</td>\n",
       "    </tr>\n",
       "    <tr>\n",
       "      <th>Electrical</th>\n",
       "      <td>1</td>\n",
       "      <td>0.000685</td>\n",
       "    </tr>\n",
       "  </tbody>\n",
       "</table>\n",
       "</div>"
      ],
      "text/plain": [
       "              Total   Percent\n",
       "PoolQC         1453  0.995205\n",
       "MiscFeature    1406  0.963014\n",
       "Alley          1369  0.937671\n",
       "Fence          1179  0.807534\n",
       "FireplaceQu     690  0.472603\n",
       "LotFrontage     259  0.177397\n",
       "GarageYrBlt      81  0.055479\n",
       "GarageCond       81  0.055479\n",
       "GarageType       81  0.055479\n",
       "GarageFinish     81  0.055479\n",
       "GarageQual       81  0.055479\n",
       "BsmtFinType2     38  0.026027\n",
       "BsmtExposure     38  0.026027\n",
       "BsmtQual         37  0.025342\n",
       "BsmtCond         37  0.025342\n",
       "BsmtFinType1     37  0.025342\n",
       "MasVnrArea        8  0.005479\n",
       "MasVnrType        8  0.005479\n",
       "Electrical        1  0.000685"
      ]
     },
     "execution_count": 15,
     "metadata": {},
     "output_type": "execute_result"
    }
   ],
   "source": [
    "missing_data_table(train)"
   ]
  },
  {
   "cell_type": "markdown",
   "id": "073e984f",
   "metadata": {},
   "source": [
    "# Удаление пропущенных"
   ]
  },
  {
   "cell_type": "code",
   "execution_count": 16,
   "id": "53083363",
   "metadata": {
    "code_folding": []
   },
   "outputs": [],
   "source": [
    "def drop_missing_data_columns(data, threshold):\n",
    "    data = data[data.columns[data.isnull().mean() < threshold]]\n",
    "    return data"
   ]
  },
  {
   "cell_type": "code",
   "execution_count": 17,
   "id": "5dceb1fa",
   "metadata": {},
   "outputs": [],
   "source": [
    "def drop_missing_data_rows(data, threshold):\n",
    "    data = data.loc[data.isnull().mean(axis=1) < threshold]\n",
    "    return data"
   ]
  },
  {
   "cell_type": "markdown",
   "id": "d79f6b59",
   "metadata": {},
   "source": [
    "# Заполнение пропущенных значений"
   ]
  },
  {
   "cell_type": "code",
   "execution_count": 18,
   "id": "7e8222d5",
   "metadata": {},
   "outputs": [],
   "source": [
    "def fillna_0(data, columns):\n",
    "    for column in columns:\n",
    "        data.loc[:, column] = data.loc[:, column].fillna(0)\n",
    "    return data"
   ]
  },
  {
   "cell_type": "code",
   "execution_count": 19,
   "id": "d0441b97",
   "metadata": {},
   "outputs": [],
   "source": [
    "def fillna_value(data, columns, value):\n",
    "    for column in columns:\n",
    "        data.loc[:, column] = data.loc[:, column].fillna(value)\n",
    "    return data"
   ]
  },
  {
   "cell_type": "code",
   "execution_count": 20,
   "id": "65c9ef0e",
   "metadata": {},
   "outputs": [],
   "source": [
    "def fillna_mean(data, columns):\n",
    "    temp = data[columns]\n",
    "    print(\"NAs for numerical features in train : \" + str(temp.isnull().values.sum()))\n",
    "    temp = temp.fillna(temp.mean())\n",
    "    data[columns] = temp\n",
    "    print(\"Remaining NAs for numerical features in train : \" + str(temp.isnull().values.sum()))\n",
    "    return data"
   ]
  },
  {
   "cell_type": "code",
   "execution_count": 21,
   "id": "cd3d8d2d",
   "metadata": {},
   "outputs": [],
   "source": [
    "def fillna_median(data, columns):\n",
    "    temp = data[columns]\n",
    "    print(\"NAs for numerical features in train : \" + str(temp.isnull().values.sum()))\n",
    "    temp = temp.fillna(temp.median())\n",
    "    data[columns] = temp\n",
    "    print(\"Remaining NAs for numerical features in train : \" + str(temp.isnull().values.sum()))\n",
    "    return data"
   ]
  },
  {
   "cell_type": "code",
   "execution_count": 22,
   "id": "5364d574",
   "metadata": {},
   "outputs": [],
   "source": [
    "def recodeMissing(dataraw):\n",
    "    columns_0 = [\"BedroomAbvGr\", \"BsmtFullBath\", \"BsmtHalfBath\", \"BsmtUnfSF\", \"EnclosedPorch\", \"Fireplaces\", \"GarageArea\", \"GarageCars\", \"HalfBath\", \"KitchenAbvGr\", \"LotFrontage\", \"MasVnrArea\", \"MiscVal\", \"OpenPorchSF\", \"PoolArea\", \"ScreenPorch\", \"TotRmsAbvGrd\", \"WoodDeckSF\"]\n",
    "    columns_No = [\"BsmtQual\", \"BsmtCond\", \"BsmtExposure\", \"BsmtFinType1\", \"BsmtFinType2\", \"Fence\", \"FireplaceQu\", \"GarageType\", \"GarageFinish\", \"GarageQual\", \"GarageCond\", \"MiscFeature\", \"PoolQC\"]\n",
    "    columns_None = [\"Alley\", \"MasVnrType\"]\n",
    "    columns_N = [\"CentralAir\", \"PavedDrive\"]\n",
    "    columns_Norm = [\"Condition1\", \"Condition2\"]\n",
    "    columns_TA = [\"ExterCond\", \"ExterQual\", \"HeatingQC\", \"KitchenQual\"]\n",
    "    columns_Typ = [\"Functional\"]\n",
    "    columns_Reg = [\"LotShape\"]\n",
    "    columns_Normal = [\"SaleCondition\"]\n",
    "    columns_AllPub = [\"Utilities\"]\n",
    "    columns_SBrkr = ['Electrical']\n",
    "    dataraw = fillna_0(dataraw, columns_0)\n",
    "    dataraw = fillna_value(dataraw, columns_No, \"No\")\n",
    "    dataraw = fillna_value(dataraw, columns_None, \"None\")\n",
    "    dataraw = fillna_value(dataraw, columns_N, \"N\")\n",
    "    dataraw = fillna_value(dataraw, columns_Norm, \"Norm\")\n",
    "    dataraw = fillna_value(dataraw, columns_Typ, \"Typ\")\n",
    "    dataraw = fillna_value(dataraw, columns_Reg, \"Reg\")\n",
    "    dataraw = fillna_value(dataraw, columns_Normal, \"Normal\")\n",
    "    dataraw = fillna_value(dataraw, columns_AllPub, \"AllPub\")\n",
    "    dataraw = fillna_value(dataraw, columns_SBrkr, \"SBrkr\")\n",
    "    return dataraw"
   ]
  },
  {
   "cell_type": "markdown",
   "id": "f3cc3a2a",
   "metadata": {},
   "source": [
    "# Чистка категорий"
   ]
  },
  {
   "cell_type": "code",
   "execution_count": 23,
   "id": "356d96e9",
   "metadata": {},
   "outputs": [],
   "source": [
    "def clean(allData):\n",
    "    allData[\"Exterior2nd\"] = allData[\"Exterior2nd\"].replace({\"Brk Cmn\": \"BrkComm\"})\n",
    "    # Some values of GarageYrBlt are corrupt, so we'll replace them\n",
    "    # with the year the house was built\n",
    "    allData[\"GarageYrBlt\"] = allData[\"GarageYrBlt\"].where(allData.GarageYrBlt <= 2010, allData.YearBuilt)\n",
    "    return allData"
   ]
  },
  {
   "cell_type": "markdown",
   "id": "1e4d6774",
   "metadata": {},
   "source": [
    "# Кодирование порядковых категорий"
   ]
  },
  {
   "cell_type": "code",
   "execution_count": 24,
   "id": "d0a8ac7b",
   "metadata": {},
   "outputs": [],
   "source": [
    "translist1=['BsmtQual','BsmtCond', 'ExterCond', 'ExterQual','GarageCond','GarageQual','KitchenQual',\n",
    "           'FireplaceQu','PoolQC','HeatingQC']\n",
    "thisvals1 = ['Ex','Gd','TA','Fa','Po','No']"
   ]
  },
  {
   "cell_type": "code",
   "execution_count": 25,
   "id": "9958aaf3",
   "metadata": {},
   "outputs": [],
   "source": [
    "translist2=[\"BsmtFinType1\", \"BsmtFinType2\"]\n",
    "thisvals2 = ['GLQ','ALQ','BLQ','Rec','LwQ','Unf']"
   ]
  },
  {
   "cell_type": "code",
   "execution_count": 26,
   "id": "f0893856",
   "metadata": {},
   "outputs": [],
   "source": [
    "translist3=[\"BsmtExposure\"]\n",
    "thisvals3 = ['Gd','Av','Mn','No']"
   ]
  },
  {
   "cell_type": "code",
   "execution_count": 27,
   "id": "809317d5",
   "metadata": {},
   "outputs": [],
   "source": [
    "def recodeQualRatings(alldata, translist, thisvals):\n",
    "    chgdict = {}\n",
    "    addtoratio=[]\n",
    "    for t in translist:\n",
    "        alldata.loc[:,t+'num']=alldata[t]\n",
    "        thisval=len(thisvals)-1\n",
    "        chgdict[t+'num']={}\n",
    "        for thisVal in thisvals:\n",
    "            chgdict[t+'num'][thisVal]=thisval\n",
    "            thisval-=1\n",
    "        chgdict[t+'num']['No']=0\n",
    "        alldata.loc[:,t+'num']=alldata[t+'num'].fillna('No')\n",
    "    alldata.replace(to_replace=chgdict,inplace=True)\n",
    "    return alldata"
   ]
  },
  {
   "cell_type": "markdown",
   "id": "0efa75a8",
   "metadata": {},
   "source": [
    "# Разбиение временных признаков"
   ]
  },
  {
   "cell_type": "code",
   "execution_count": 28,
   "id": "3b21d71e",
   "metadata": {},
   "outputs": [],
   "source": [
    "years = ['YrSold','YearRemodAdd','GarageYrBlt','YearBuilt']"
   ]
  },
  {
   "cell_type": "code",
   "execution_count": 29,
   "id": "65405dab",
   "metadata": {},
   "outputs": [],
   "source": [
    "def chunkYears(alldata,years):\n",
    "    for y in years:\n",
    "        alldata[y+'decade']=(alldata[y]/10).round()\n",
    "        alldata.loc[:,y+'decade']=alldata.loc[:,y+'decade'].fillna(999)\n",
    "        alldata.loc[:,y+'decade']=alldata.loc[:,y+'decade'].astype('str')\n",
    "        alldata.loc[:,y]=2010-alldata[y]\n",
    "        alldata.loc[alldata[y] < 0,y] = 0\n",
    "    alldata['newBuild']=1*[alldata['YrSold']<=1][0]\n",
    "    return alldata"
   ]
  },
  {
   "cell_type": "markdown",
   "id": "1f0637ba",
   "metadata": {},
   "source": [
    "# Упрощение категорий"
   ]
  },
  {
   "cell_type": "code",
   "execution_count": 30,
   "id": "9335e2f5",
   "metadata": {},
   "outputs": [],
   "source": [
    "def simplificationsFeatures(allData):\n",
    "    allData[\"SimplBsmtQual\"] = allData.BsmtQualnum.replace({1 : 1, # bad\n",
    "                                                     2 : 1, 3 : 1, # average\n",
    "                                                     4 : 2, 5 : 2 # good\n",
    "                                                    })\n",
    "    allData[\"SimplBsmtCond\"] = allData.BsmtCondnum.replace({1 : 1, # bad\n",
    "                                                     2 : 1, 3 : 1, # average\n",
    "                                                     4 : 2, 5 : 2 # good\n",
    "                                                    })\n",
    "    allData[\"SimplExterCond\"] = allData.ExterCondnum.replace({1 : 1, # bad\n",
    "                                                       2 : 1, 3 : 1, # average\n",
    "                                                       4 : 2, 5 : 2 # good\n",
    "                                                      })\n",
    "    allData[\"SimplExterQual\"] = allData.ExterQualnum.replace({1 : 1, # bad\n",
    "                                                       2 : 1, 3 : 1, # average\n",
    "                                                       4 : 2, 5 : 2 # good\n",
    "                                                      })\n",
    "    allData[\"SimplGarageCond\"] = allData.GarageCondnum.replace({1 : 1, # bad\n",
    "                                                         2 : 1, 3 : 1, # average\n",
    "                                                         4 : 2, 5 : 2 # good\n",
    "                                                        })\n",
    "    allData[\"SimplGarageQual\"] = allData.GarageQualnum.replace({1 : 1, # bad\n",
    "                                                         2 : 1, 3 : 1, # average\n",
    "                                                         4 : 2, 5 : 2 # good\n",
    "                                                        })\n",
    "    allData[\"SimplKitchenQual\"] = allData.KitchenQualnum.replace({1 : 1, # bad\n",
    "                                                           2 : 1, 3 : 1, # average\n",
    "                                                           4 : 2, 5 : 2 # good\n",
    "                                                          })\n",
    "    allData[\"SimplFireplaceQu\"] = allData.FireplaceQunum.replace({1 : 1, # bad\n",
    "                                                           2 : 1, 3 : 1, # average\n",
    "                                                           4 : 2, 5 : 2 # good\n",
    "                                                          })    \n",
    "    allData[\"SimplPoolQC\"] = allData.PoolQCnum.replace({1 : 1, 2 : 1, # average\n",
    "                                                 3 : 2, 4 : 2 # good\n",
    "                                                })\n",
    "    allData[\"SimplHeatingQC\"] = allData.HeatingQCnum.replace({1 : 1, # bad\n",
    "                                                       2 : 1, 3 : 1, # average\n",
    "                                                       4 : 2, 5 : 2 # good\n",
    "                                                      })\n",
    "    \n",
    "    allData[\"SimplOverallQual\"] = allData.OverallQual.replace({1 : 1, 2 : 1, 3 : 1, # bad\n",
    "                                                           4 : 2, 5 : 2, 6 : 2, # average\n",
    "                                                           7 : 3, 8 : 3, 9 : 3, 10 : 3 # good\n",
    "                                                          })\n",
    "    allData[\"SimplOverallCond\"] = allData.OverallCond.replace({1 : 1, 2 : 1, 3 : 1, # bad\n",
    "                                                           4 : 2, 5 : 2, 6 : 2, # average\n",
    "                                                           7 : 3, 8 : 3, 9 : 3, 10 : 3 # good\n",
    "                                                          })\n",
    "\n",
    "    allData[\"SimplBsmtFinType1\"] = allData.BsmtFinType1num.replace({1 : 1, # unfinished\n",
    "                                                             2 : 1, 3 : 1, # rec room\n",
    "                                                             4 : 2, 5 : 2, 6 : 2 # living quarters\n",
    "                                                            })\n",
    "    allData[\"SimplBsmtFinType2\"] = allData.BsmtFinType2num.replace({1 : 1, # unfinished\n",
    "                                                             2 : 1, 3 : 1, # rec room\n",
    "                                                             4 : 2, 5 : 2, 6 : 2 # living quarters\n",
    "                                                            })\n",
    "    return allData"
   ]
  },
  {
   "cell_type": "markdown",
   "id": "e2792130",
   "metadata": {},
   "source": [
    "# Объединение категорий"
   ]
  },
  {
   "cell_type": "code",
   "execution_count": 31,
   "id": "72abeb31",
   "metadata": {},
   "outputs": [],
   "source": [
    "def  combinationsFeatures(allData):\n",
    "    # Overall quality of the house\n",
    "    allData[\"OverallGrade\"] = allData[\"OverallQual\"] * allData[\"OverallCond\"]\n",
    "    # Overall quality of the garage\n",
    "    allData[\"GarageGrade\"] = allData[\"GarageQualnum\"] * allData[\"GarageCondnum\"]\n",
    "    # Overall quality of the exterior\n",
    "    allData[\"ExterGrade\"] = allData[\"ExterQualnum\"] * allData[\"ExterCondnum\"]\n",
    "    # Overall kitchen score\n",
    "    allData[\"KitchenScore\"] = allData[\"KitchenAbvGr\"] * allData[\"KitchenQualnum\"]\n",
    "    # Overall fireplace score\n",
    "    allData[\"FireplaceScore\"] = allData[\"Fireplaces\"] * allData[\"FireplaceQunum\"]\n",
    "    # Overall garage score\n",
    "    allData[\"GarageScore\"] = allData[\"GarageArea\"] * allData[\"GarageQualnum\"]\n",
    "    # Overall pool score\n",
    "    allData[\"PoolScore\"] = allData[\"PoolArea\"] * allData[\"PoolQCnum\"]\n",
    "    # Simplified overall quality of the house\n",
    "    allData[\"SimplOverallGrade\"] = allData[\"SimplOverallQual\"] * allData[\"SimplOverallCond\"]\n",
    "    # Simplified overall quality of the exterior\n",
    "    allData[\"SimplExterGrade\"] = allData[\"SimplExterQual\"] * allData[\"SimplExterCond\"]\n",
    "    # Simplified overall pool score\n",
    "    allData[\"SimplPoolScore\"] = allData[\"PoolArea\"] * allData[\"SimplPoolQC\"]\n",
    "    # Simplified overall garage score\n",
    "    allData[\"SimplGarageScore\"] = allData[\"GarageArea\"] * allData[\"SimplGarageQual\"]\n",
    "    # Simplified overall fireplace score\n",
    "    allData[\"SimplFireplaceScore\"] = allData[\"Fireplaces\"] * allData[\"SimplFireplaceQu\"]\n",
    "    # Simplified overall kitchen score\n",
    "    allData[\"SimplKitchenScore\"] = allData[\"KitchenAbvGr\"] * allData[\"SimplKitchenQual\"]\n",
    "    # Total number of bathrooms\n",
    "    allData[\"TotalBath\"] = allData[\"BsmtFullBath\"] + (0.5 * allData[\"BsmtHalfBath\"]) + \\\n",
    "    allData[\"FullBath\"] + (0.5 * allData[\"HalfBath\"])\n",
    "    # Total SF for house (incl. basement)\n",
    "    allData[\"AllSF\"] = allData[\"GrLivArea\"] + allData[\"TotalBsmtSF\"]\n",
    "    # Total SF for 1st + 2nd floors\n",
    "    allData[\"AllFlrsSF\"] = allData[\"1stFlrSF\"] + allData[\"2ndFlrSF\"]\n",
    "    # Total SF for porch\n",
    "    allData[\"AllPorchSF\"] = allData[\"OpenPorchSF\"] + allData[\"EnclosedPorch\"] + \\\n",
    "    allData[\"3SsnPorch\"] + allData[\"ScreenPorch\"]\n",
    "    # Has masonry veneer or not\n",
    "    allData[\"HasMasVnr\"] = allData.MasVnrType.replace({\"BrkCmn\" : 1, \"BrkFace\" : 1, \"CBlock\" : 1, \n",
    "                                                   \"Stone\" : 1, \"None\" : 0})\n",
    "    # House completed before sale or not\n",
    "    allData[\"BoughtOffPlan\"] = allData.SaleCondition.replace({\"Abnorml\" : 0, \"Alloca\" : 0, \"AdjLand\" : 0, \n",
    "                                                          \"Family\" : 0, \"Normal\" : 0, \"Partial\" : 1})\n",
    "    return allData"
   ]
  },
  {
   "cell_type": "markdown",
   "id": "b4f39a79",
   "metadata": {},
   "source": [
    "# Полиномиальные признаки"
   ]
  },
  {
   "cell_type": "code",
   "execution_count": 32,
   "id": "18a06677",
   "metadata": {},
   "outputs": [],
   "source": [
    "def polynomialsFeatures(allData, columns):\n",
    "    for col in columns:\n",
    "        allData[col+'-2'] = allData.loc[:,col]**2\n",
    "        allData[col+'-3'] = allData.loc[:,col]**3\n",
    "        allData[col+'-sqrt'] = np.sqrt(np.absolute(allData.loc[:,col]))\n",
    "    return allData"
   ]
  },
  {
   "cell_type": "markdown",
   "id": "c7fca093",
   "metadata": {},
   "source": [
    "# Выбор функций"
   ]
  },
  {
   "cell_type": "code",
   "execution_count": 33,
   "id": "b3a7aa5e",
   "metadata": {},
   "outputs": [],
   "source": [
    "train_transform = copy.deepcopy(train)\n",
    "test_transform = copy.deepcopy(test)"
   ]
  },
  {
   "cell_type": "markdown",
   "id": "6b2a9bcb",
   "metadata": {},
   "source": [
    "### Выбросы"
   ]
  },
  {
   "cell_type": "code",
   "execution_count": 34,
   "id": "2ad06c86",
   "metadata": {},
   "outputs": [],
   "source": [
    "train_transform = drop_outliers(train_transform)"
   ]
  },
  {
   "cell_type": "code",
   "execution_count": 35,
   "id": "9e12c968",
   "metadata": {},
   "outputs": [
    {
     "data": {
      "text/plain": [
       "(1456, 81)"
      ]
     },
     "execution_count": 35,
     "metadata": {},
     "output_type": "execute_result"
    }
   ],
   "source": [
    "train_transform.shape"
   ]
  },
  {
   "cell_type": "markdown",
   "id": "68b66119",
   "metadata": {},
   "source": [
    "### Удаление пропущенных значений"
   ]
  },
  {
   "cell_type": "code",
   "execution_count": 36,
   "id": "da711187",
   "metadata": {},
   "outputs": [],
   "source": [
    "#train_transform = drop_missing_data_columns(train_transform, 0.75)\n",
    "#train_transform.shape\n",
    "#missing_data_table(train_transform)"
   ]
  },
  {
   "cell_type": "code",
   "execution_count": 37,
   "id": "6f1154c8",
   "metadata": {},
   "outputs": [],
   "source": [
    "#train_transform = drop_missing_data_rows(train_transform, 0.75)\n",
    "#train_transform.shape\n",
    "#missing_data_table(train_transform)"
   ]
  },
  {
   "cell_type": "markdown",
   "id": "1b705c67",
   "metadata": {},
   "source": [
    "### Заполнение пропущенных значений"
   ]
  },
  {
   "cell_type": "markdown",
   "id": "7615153b",
   "metadata": {},
   "source": [
    "Категории"
   ]
  },
  {
   "cell_type": "code",
   "execution_count": 38,
   "id": "121cf7bd",
   "metadata": {},
   "outputs": [],
   "source": [
    "train_transform = recodeMissing(train_transform)\n",
    "test_transform = recodeMissing(test_transform)"
   ]
  },
  {
   "cell_type": "markdown",
   "id": "f1c70e0e",
   "metadata": {},
   "source": [
    "Числовые"
   ]
  },
  {
   "cell_type": "code",
   "execution_count": 39,
   "id": "e8795599",
   "metadata": {},
   "outputs": [],
   "source": [
    "numerical_features = train_transform.select_dtypes(exclude = [\"object\"]).columns\n",
    "numerical_features = numerical_features.drop(\"SalePrice\")"
   ]
  },
  {
   "cell_type": "code",
   "execution_count": 40,
   "id": "6f36c8c0",
   "metadata": {},
   "outputs": [
    {
     "name": "stdout",
     "output_type": "stream",
     "text": [
      "NAs for numerical features in train : 81\n",
      "Remaining NAs for numerical features in train : 0\n",
      "NAs for numerical features in train : 81\n",
      "Remaining NAs for numerical features in train : 0\n"
     ]
    }
   ],
   "source": [
    "train_transform = fillna_median(train_transform, numerical_features)\n",
    "test_transform = fillna_median(test_transform, numerical_features)"
   ]
  },
  {
   "cell_type": "code",
   "execution_count": 41,
   "id": "19e24be5",
   "metadata": {},
   "outputs": [],
   "source": [
    "#missing_data_chart(train_transform)"
   ]
  },
  {
   "cell_type": "code",
   "execution_count": 42,
   "id": "80fc97f9",
   "metadata": {},
   "outputs": [
    {
     "data": {
      "image/png": "[encoded data removed]",
      "text/plain": [
       "<Figure size 432x288 with 1 Axes>"
      ]
     },
     "metadata": {
      "needs_background": "light"
     },
     "output_type": "display_data"
    }
   ],
   "source": [
    "missing_data_chart(test_transform)"
   ]
  },
  {
   "cell_type": "markdown",
   "id": "8d287e8e",
   "metadata": {},
   "source": [
    "### Чистка категорий"
   ]
  },
  {
   "cell_type": "code",
   "execution_count": 43,
   "id": "e27c7e8c",
   "metadata": {},
   "outputs": [],
   "source": [
    "train_transform = clean(train_transform)\n",
    "test_transform = clean(test_transform)"
   ]
  },
  {
   "cell_type": "markdown",
   "id": "9d6bd1a0",
   "metadata": {},
   "source": [
    "### Кодирование порядковых категорий"
   ]
  },
  {
   "cell_type": "code",
   "execution_count": 44,
   "id": "48c5bd5d",
   "metadata": {},
   "outputs": [],
   "source": [
    "train_transform = recodeQualRatings(train_transform, translist1, thisvals1)\n",
    "test_transform = recodeQualRatings(test_transform, translist1, thisvals1)\n",
    "train_transform = recodeQualRatings(train_transform, translist2, thisvals2)\n",
    "test_transform = recodeQualRatings(test_transform, translist2, thisvals2)\n",
    "train_transform = recodeQualRatings(train_transform, translist3, thisvals3)\n",
    "test_transform = recodeQualRatings(test_transform, translist3, thisvals3)"
   ]
  },
  {
   "cell_type": "markdown",
   "id": "a1173f46",
   "metadata": {},
   "source": [
    "### Разбиение временных признаков"
   ]
  },
  {
   "cell_type": "code",
   "execution_count": 45,
   "id": "6dc4228d",
   "metadata": {},
   "outputs": [],
   "source": [
    "train_transform = chunkYears(train_transform, years)\n",
    "test_transform = chunkYears(test_transform, years)"
   ]
  },
  {
   "cell_type": "markdown",
   "id": "3eb34bd8",
   "metadata": {},
   "source": [
    "### Упрощение категорий"
   ]
  },
  {
   "cell_type": "code",
   "execution_count": 46,
   "id": "dbb168c6",
   "metadata": {},
   "outputs": [],
   "source": [
    "train_transform = simplificationsFeatures(train_transform)\n",
    "test_transform = simplificationsFeatures(test_transform)"
   ]
  },
  {
   "cell_type": "markdown",
   "id": "e85a54c6",
   "metadata": {},
   "source": [
    "### Объединение категорий"
   ]
  },
  {
   "cell_type": "code",
   "execution_count": 47,
   "id": "443afe31",
   "metadata": {},
   "outputs": [],
   "source": [
    "train_transform = combinationsFeatures(train_transform)\n",
    "test_transform = combinationsFeatures(test_transform)"
   ]
  },
  {
   "cell_type": "markdown",
   "id": "a5a3aecd",
   "metadata": {},
   "source": [
    "### Полиномиальные признаки"
   ]
  },
  {
   "cell_type": "code",
   "execution_count": 48,
   "id": "d1a0cfcc",
   "metadata": {},
   "outputs": [
    {
     "name": "stdout",
     "output_type": "stream",
     "text": [
      "Find most important features relative to target\n",
      "SalePrice        1.000000\n",
      "OverallQual      0.790982\n",
      "GrLivArea        0.708624\n",
      "GarageCars       0.640409\n",
      "GarageArea       0.623431\n",
      "TotalBsmtSF      0.613581\n",
      "1stFlrSF         0.605852\n",
      "FullBath         0.560664\n",
      "TotRmsAbvGrd     0.533723\n",
      "YearBuilt        0.522897\n",
      "YearRemodAdd     0.507101\n",
      "GarageYrBlt      0.486362\n",
      "MasVnrArea       0.477493\n",
      "Fireplaces       0.466929\n",
      "BsmtFinSF1       0.386420\n",
      "LotFrontage      0.351799\n",
      "WoodDeckSF       0.324413\n",
      "2ndFlrSF         0.319334\n",
      "OpenPorchSF      0.315856\n",
      "HalfBath         0.284108\n",
      "LotArea          0.263843\n",
      "BsmtFullBath     0.227122\n",
      "BsmtUnfSF        0.214479\n",
      "BedroomAbvGr     0.168213\n",
      "ScreenPorch      0.111447\n",
      "PoolArea         0.092404\n",
      "MoSold           0.046432\n",
      "3SsnPorch        0.044584\n",
      "BsmtFinSF2      -0.011378\n",
      "BsmtHalfBath    -0.016844\n",
      "MiscVal         -0.021190\n",
      "Id              -0.021917\n",
      "LowQualFinSF    -0.025606\n",
      "YrSold          -0.028923\n",
      "OverallCond     -0.077856\n",
      "MSSubClass      -0.084284\n",
      "EnclosedPorch   -0.128578\n",
      "KitchenAbvGr    -0.135907\n",
      "Name: SalePrice, dtype: float64\n"
     ]
    }
   ],
   "source": [
    "# Find most important features relative to target\n",
    "print(\"Find most important features relative to target\")\n",
    "corr = train.corr()\n",
    "corr.sort_values([\"SalePrice\"], ascending = False, inplace = True)\n",
    "print(corr.SalePrice)"
   ]
  },
  {
   "cell_type": "code",
   "execution_count": 49,
   "id": "1ba5ec6e",
   "metadata": {},
   "outputs": [
    {
     "data": {
      "text/plain": [
       "Index(['OverallQual', 'GrLivArea', 'GarageCars', 'GarageArea', 'TotalBsmtSF',\n",
       "       '1stFlrSF', 'FullBath', 'TotRmsAbvGrd', 'YearBuilt', 'YearRemodAdd'],\n",
       "      dtype='object')"
      ]
     },
     "execution_count": 49,
     "metadata": {},
     "output_type": "execute_result"
    }
   ],
   "source": [
    "corr.SalePrice[1:11].index"
   ]
  },
  {
   "cell_type": "code",
   "execution_count": 50,
   "id": "b39eb51b",
   "metadata": {},
   "outputs": [],
   "source": [
    "train_transform = polynomialsFeatures(train_transform, corr.SalePrice[1:11].index)\n",
    "test_transform = polynomialsFeatures(test_transform, corr.SalePrice[1:11].index)"
   ]
  },
  {
   "cell_type": "markdown",
   "id": "0d77c094",
   "metadata": {},
   "source": [
    "# Сохранение результатов"
   ]
  },
  {
   "cell_type": "code",
   "execution_count": 51,
   "id": "3fbede80",
   "metadata": {},
   "outputs": [
    {
     "data": {
      "text/html": [
       "<div>\n",
       "<style scoped>\n",
       "    .dataframe tbody tr th:only-of-type {\n",
       "        vertical-align: middle;\n",
       "    }\n",
       "\n",
       "    .dataframe tbody tr th {\n",
       "        vertical-align: top;\n",
       "    }\n",
       "\n",
       "    .dataframe thead th {\n",
       "        text-align: right;\n",
       "    }\n",
       "</style>\n",
       "<table border=\"1\" class=\"dataframe\">\n",
       "  <thead>\n",
       "    <tr style=\"text-align: right;\">\n",
       "      <th></th>\n",
       "      <th>Id</th>\n",
       "      <th>MSSubClass</th>\n",
       "      <th>MSZoning</th>\n",
       "      <th>LotFrontage</th>\n",
       "      <th>LotArea</th>\n",
       "      <th>Street</th>\n",
       "      <th>Alley</th>\n",
       "      <th>LotShape</th>\n",
       "      <th>LandContour</th>\n",
       "      <th>Utilities</th>\n",
       "      <th>...</th>\n",
       "      <th>FullBath-sqrt</th>\n",
       "      <th>TotRmsAbvGrd-2</th>\n",
       "      <th>TotRmsAbvGrd-3</th>\n",
       "      <th>TotRmsAbvGrd-sqrt</th>\n",
       "      <th>YearBuilt-2</th>\n",
       "      <th>YearBuilt-3</th>\n",
       "      <th>YearBuilt-sqrt</th>\n",
       "      <th>YearRemodAdd-2</th>\n",
       "      <th>YearRemodAdd-3</th>\n",
       "      <th>YearRemodAdd-sqrt</th>\n",
       "    </tr>\n",
       "  </thead>\n",
       "  <tbody>\n",
       "    <tr>\n",
       "      <th>0</th>\n",
       "      <td>1</td>\n",
       "      <td>60</td>\n",
       "      <td>RL</td>\n",
       "      <td>65.0</td>\n",
       "      <td>8450</td>\n",
       "      <td>Pave</td>\n",
       "      <td>None</td>\n",
       "      <td>Reg</td>\n",
       "      <td>Lvl</td>\n",
       "      <td>AllPub</td>\n",
       "      <td>...</td>\n",
       "      <td>1.414214</td>\n",
       "      <td>64</td>\n",
       "      <td>512</td>\n",
       "      <td>2.828427</td>\n",
       "      <td>49</td>\n",
       "      <td>343</td>\n",
       "      <td>2.645751</td>\n",
       "      <td>49</td>\n",
       "      <td>343</td>\n",
       "      <td>2.645751</td>\n",
       "    </tr>\n",
       "    <tr>\n",
       "      <th>1</th>\n",
       "      <td>2</td>\n",
       "      <td>20</td>\n",
       "      <td>RL</td>\n",
       "      <td>80.0</td>\n",
       "      <td>9600</td>\n",
       "      <td>Pave</td>\n",
       "      <td>None</td>\n",
       "      <td>Reg</td>\n",
       "      <td>Lvl</td>\n",
       "      <td>AllPub</td>\n",
       "      <td>...</td>\n",
       "      <td>1.414214</td>\n",
       "      <td>36</td>\n",
       "      <td>216</td>\n",
       "      <td>2.449490</td>\n",
       "      <td>1156</td>\n",
       "      <td>39304</td>\n",
       "      <td>5.830952</td>\n",
       "      <td>1156</td>\n",
       "      <td>39304</td>\n",
       "      <td>5.830952</td>\n",
       "    </tr>\n",
       "    <tr>\n",
       "      <th>2</th>\n",
       "      <td>3</td>\n",
       "      <td>60</td>\n",
       "      <td>RL</td>\n",
       "      <td>68.0</td>\n",
       "      <td>11250</td>\n",
       "      <td>Pave</td>\n",
       "      <td>None</td>\n",
       "      <td>IR1</td>\n",
       "      <td>Lvl</td>\n",
       "      <td>AllPub</td>\n",
       "      <td>...</td>\n",
       "      <td>1.414214</td>\n",
       "      <td>36</td>\n",
       "      <td>216</td>\n",
       "      <td>2.449490</td>\n",
       "      <td>81</td>\n",
       "      <td>729</td>\n",
       "      <td>3.000000</td>\n",
       "      <td>64</td>\n",
       "      <td>512</td>\n",
       "      <td>2.828427</td>\n",
       "    </tr>\n",
       "    <tr>\n",
       "      <th>3</th>\n",
       "      <td>4</td>\n",
       "      <td>70</td>\n",
       "      <td>RL</td>\n",
       "      <td>60.0</td>\n",
       "      <td>9550</td>\n",
       "      <td>Pave</td>\n",
       "      <td>None</td>\n",
       "      <td>IR1</td>\n",
       "      <td>Lvl</td>\n",
       "      <td>AllPub</td>\n",
       "      <td>...</td>\n",
       "      <td>1.000000</td>\n",
       "      <td>49</td>\n",
       "      <td>343</td>\n",
       "      <td>2.645751</td>\n",
       "      <td>9025</td>\n",
       "      <td>857375</td>\n",
       "      <td>9.746794</td>\n",
       "      <td>1600</td>\n",
       "      <td>64000</td>\n",
       "      <td>6.324555</td>\n",
       "    </tr>\n",
       "    <tr>\n",
       "      <th>4</th>\n",
       "      <td>5</td>\n",
       "      <td>60</td>\n",
       "      <td>RL</td>\n",
       "      <td>84.0</td>\n",
       "      <td>14260</td>\n",
       "      <td>Pave</td>\n",
       "      <td>None</td>\n",
       "      <td>IR1</td>\n",
       "      <td>Lvl</td>\n",
       "      <td>AllPub</td>\n",
       "      <td>...</td>\n",
       "      <td>1.414214</td>\n",
       "      <td>81</td>\n",
       "      <td>729</td>\n",
       "      <td>3.000000</td>\n",
       "      <td>100</td>\n",
       "      <td>1000</td>\n",
       "      <td>3.162278</td>\n",
       "      <td>100</td>\n",
       "      <td>1000</td>\n",
       "      <td>3.162278</td>\n",
       "    </tr>\n",
       "  </tbody>\n",
       "</table>\n",
       "<p>5 rows × 162 columns</p>\n",
       "</div>"
      ],
      "text/plain": [
       "   Id  MSSubClass MSZoning  LotFrontage  LotArea Street Alley LotShape  \\\n",
       "0   1          60       RL         65.0     8450   Pave  None      Reg   \n",
       "1   2          20       RL         80.0     9600   Pave  None      Reg   \n",
       "2   3          60       RL         68.0    11250   Pave  None      IR1   \n",
       "3   4          70       RL         60.0     9550   Pave  None      IR1   \n",
       "4   5          60       RL         84.0    14260   Pave  None      IR1   \n",
       "\n",
       "  LandContour Utilities  ... FullBath-sqrt TotRmsAbvGrd-2 TotRmsAbvGrd-3  \\\n",
       "0         Lvl    AllPub  ...      1.414214             64            512   \n",
       "1         Lvl    AllPub  ...      1.414214             36            216   \n",
       "2         Lvl    AllPub  ...      1.414214             36            216   \n",
       "3         Lvl    AllPub  ...      1.000000             49            343   \n",
       "4         Lvl    AllPub  ...      1.414214             81            729   \n",
       "\n",
       "  TotRmsAbvGrd-sqrt YearBuilt-2 YearBuilt-3 YearBuilt-sqrt  YearRemodAdd-2  \\\n",
       "0          2.828427          49         343       2.645751              49   \n",
       "1          2.449490        1156       39304       5.830952            1156   \n",
       "2          2.449490          81         729       3.000000              64   \n",
       "3          2.645751        9025      857375       9.746794            1600   \n",
       "4          3.000000         100        1000       3.162278             100   \n",
       "\n",
       "   YearRemodAdd-3  YearRemodAdd-sqrt  \n",
       "0             343           2.645751  \n",
       "1           39304           5.830952  \n",
       "2             512           2.828427  \n",
       "3           64000           6.324555  \n",
       "4            1000           3.162278  \n",
       "\n",
       "[5 rows x 162 columns]"
      ]
     },
     "execution_count": 51,
     "metadata": {},
     "output_type": "execute_result"
    }
   ],
   "source": [
    "train_transform.head()"
   ]
  },
  {
   "cell_type": "code",
   "execution_count": 52,
   "id": "e0869986",
   "metadata": {},
   "outputs": [
    {
     "data": {
      "text/plain": [
       "(1456, 162)"
      ]
     },
     "execution_count": 52,
     "metadata": {},
     "output_type": "execute_result"
    }
   ],
   "source": [
    "train_transform.shape"
   ]
  },
  {
   "cell_type": "code",
   "execution_count": 53,
   "id": "5b9b8f02",
   "metadata": {},
   "outputs": [
    {
     "data": {
      "text/plain": [
       "(1459, 161)"
      ]
     },
     "execution_count": 53,
     "metadata": {},
     "output_type": "execute_result"
    }
   ],
   "source": [
    "test_transform.shape"
   ]
  },
  {
   "cell_type": "code",
   "execution_count": 54,
   "id": "c13347d7",
   "metadata": {},
   "outputs": [],
   "source": [
    "train_transform.to_csv(\"transform/train_transform_after_cleaning.csv\", index = False)\n",
    "test_transform.to_csv(\"transform/test_transform_after_cleaning.csv\", index = False)"
   ]
  }
 ],
 "metadata": {
  "kernelspec": {
   "display_name": "Python 3 (ipykernel)",
   "language": "python",
   "name": "python3"
  },
  "language_info": {
   "codemirror_mode": {
    "name": "ipython",
    "version": 3
   },
   "file_extension": ".py",
   "mimetype": "text/x-python",
   "name": "python",
   "nbconvert_exporter": "python",
   "pygments_lexer": "ipython3",
   "version": "3.8.10"
  }
 },
 "nbformat": 4,
 "nbformat_minor": 5
}
