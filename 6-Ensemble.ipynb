{
 "cells": [
  {
   "cell_type": "code",
   "execution_count": 1,
   "id": "de32529b",
   "metadata": {},
   "outputs": [
    {
     "name": "stderr",
     "output_type": "stream",
     "text": [
      "[MLENS] backend: threading\n"
     ]
    }
   ],
   "source": [
    "from mlens.ensemble import SuperLearner, BlendEnsemble\n",
    "import pickle\n",
    "from sklearn.ensemble import VotingClassifier\n",
    "import pandas as pd\n",
    "import numpy as np\n",
    "from scipy.optimize import minimize, fsolve\n",
    "from time import time\n",
    "import datetime"
   ]
  },
  {
   "cell_type": "code",
   "execution_count": 2,
   "id": "d2b588bf",
   "metadata": {},
   "outputs": [],
   "source": [
    "SEED = 21"
   ]
  },
  {
   "cell_type": "code",
   "execution_count": 161,
   "id": "9a874d73",
   "metadata": {},
   "outputs": [],
   "source": [
    "train = pd.read_feather(\"transform/train_transform_after_preparation.feather\")\n",
    "pred = pd.read_feather(\"transform/test_transform_after_preparation.feather\")"
   ]
  },
  {
   "cell_type": "code",
   "execution_count": 162,
   "id": "cdd26561",
   "metadata": {},
   "outputs": [
    {
     "name": "stderr",
     "output_type": "stream",
     "text": [
      "/tmp/ipykernel_7887/2050573941.py:1: FutureWarning: In a future version of pandas all arguments of DataFrame.drop except for the argument 'labels' will be keyword-only\n",
      "  X_train = train.drop(['SalePrice', 'Id'], 1)\n"
     ]
    }
   ],
   "source": [
    "X_train = train.drop(['SalePrice', 'Id'], 1)\n",
    "y_train = np.log1p(train['SalePrice'])"
   ]
  },
  {
   "cell_type": "code",
   "execution_count": 163,
   "id": "9fe932f8",
   "metadata": {},
   "outputs": [
    {
     "name": "stderr",
     "output_type": "stream",
     "text": [
      "/tmp/ipykernel_7887/2827053377.py:1: FutureWarning: In a future version of pandas all arguments of DataFrame.drop except for the argument 'labels' will be keyword-only\n",
      "  X_pred = pred.drop('Id', 1)\n"
     ]
    }
   ],
   "source": [
    "X_pred = pred.drop('Id', 1)"
   ]
  },
  {
   "cell_type": "code",
   "execution_count": 87,
   "id": "4e08c3e0",
   "metadata": {},
   "outputs": [
    {
     "data": {
      "text/html": [
       "<div>\n",
       "<style scoped>\n",
       "    .dataframe tbody tr th:only-of-type {\n",
       "        vertical-align: middle;\n",
       "    }\n",
       "\n",
       "    .dataframe tbody tr th {\n",
       "        vertical-align: top;\n",
       "    }\n",
       "\n",
       "    .dataframe thead th {\n",
       "        text-align: right;\n",
       "    }\n",
       "</style>\n",
       "<table border=\"1\" class=\"dataframe\">\n",
       "  <thead>\n",
       "    <tr style=\"text-align: right;\">\n",
       "      <th></th>\n",
       "      <th>MSSubClass</th>\n",
       "      <th>LotFrontage</th>\n",
       "      <th>LotArea</th>\n",
       "      <th>OverallQual</th>\n",
       "      <th>OverallCond</th>\n",
       "      <th>YearBuilt</th>\n",
       "      <th>YearRemodAdd</th>\n",
       "      <th>MasVnrArea</th>\n",
       "      <th>BsmtFinSF1</th>\n",
       "      <th>BsmtFinSF2</th>\n",
       "      <th>...</th>\n",
       "      <th>SaleType_ConLw</th>\n",
       "      <th>SaleType_New</th>\n",
       "      <th>SaleType_Oth</th>\n",
       "      <th>SaleType_WD</th>\n",
       "      <th>SaleCondition_Abnorml</th>\n",
       "      <th>SaleCondition_AdjLand</th>\n",
       "      <th>SaleCondition_Alloca</th>\n",
       "      <th>SaleCondition_Family</th>\n",
       "      <th>SaleCondition_Normal</th>\n",
       "      <th>SaleCondition_Partial</th>\n",
       "    </tr>\n",
       "  </thead>\n",
       "  <tbody>\n",
       "    <tr>\n",
       "      <th>0</th>\n",
       "      <td>0.235294</td>\n",
       "      <td>0.207668</td>\n",
       "      <td>0.033420</td>\n",
       "      <td>0.666667</td>\n",
       "      <td>0.500</td>\n",
       "      <td>0.050725</td>\n",
       "      <td>0.116667</td>\n",
       "      <td>0.12250</td>\n",
       "      <td>0.322669</td>\n",
       "      <td>0.0</td>\n",
       "      <td>...</td>\n",
       "      <td>0.0</td>\n",
       "      <td>0.0</td>\n",
       "      <td>0.0</td>\n",
       "      <td>1.0</td>\n",
       "      <td>0.0</td>\n",
       "      <td>0.0</td>\n",
       "      <td>0.0</td>\n",
       "      <td>0.0</td>\n",
       "      <td>1.0</td>\n",
       "      <td>0.0</td>\n",
       "    </tr>\n",
       "    <tr>\n",
       "      <th>1</th>\n",
       "      <td>0.000000</td>\n",
       "      <td>0.255591</td>\n",
       "      <td>0.038795</td>\n",
       "      <td>0.555556</td>\n",
       "      <td>0.875</td>\n",
       "      <td>0.246377</td>\n",
       "      <td>0.566667</td>\n",
       "      <td>0.00000</td>\n",
       "      <td>0.446984</td>\n",
       "      <td>0.0</td>\n",
       "      <td>...</td>\n",
       "      <td>0.0</td>\n",
       "      <td>0.0</td>\n",
       "      <td>0.0</td>\n",
       "      <td>1.0</td>\n",
       "      <td>0.0</td>\n",
       "      <td>0.0</td>\n",
       "      <td>0.0</td>\n",
       "      <td>0.0</td>\n",
       "      <td>1.0</td>\n",
       "      <td>0.0</td>\n",
       "    </tr>\n",
       "    <tr>\n",
       "      <th>2</th>\n",
       "      <td>0.235294</td>\n",
       "      <td>0.217252</td>\n",
       "      <td>0.046507</td>\n",
       "      <td>0.666667</td>\n",
       "      <td>0.500</td>\n",
       "      <td>0.065217</td>\n",
       "      <td>0.133333</td>\n",
       "      <td>0.10125</td>\n",
       "      <td>0.222121</td>\n",
       "      <td>0.0</td>\n",
       "      <td>...</td>\n",
       "      <td>0.0</td>\n",
       "      <td>0.0</td>\n",
       "      <td>0.0</td>\n",
       "      <td>1.0</td>\n",
       "      <td>0.0</td>\n",
       "      <td>0.0</td>\n",
       "      <td>0.0</td>\n",
       "      <td>0.0</td>\n",
       "      <td>1.0</td>\n",
       "      <td>0.0</td>\n",
       "    </tr>\n",
       "    <tr>\n",
       "      <th>3</th>\n",
       "      <td>0.294118</td>\n",
       "      <td>0.191693</td>\n",
       "      <td>0.038561</td>\n",
       "      <td>0.666667</td>\n",
       "      <td>0.500</td>\n",
       "      <td>0.688406</td>\n",
       "      <td>0.666667</td>\n",
       "      <td>0.00000</td>\n",
       "      <td>0.098720</td>\n",
       "      <td>0.0</td>\n",
       "      <td>...</td>\n",
       "      <td>0.0</td>\n",
       "      <td>0.0</td>\n",
       "      <td>0.0</td>\n",
       "      <td>1.0</td>\n",
       "      <td>1.0</td>\n",
       "      <td>0.0</td>\n",
       "      <td>0.0</td>\n",
       "      <td>0.0</td>\n",
       "      <td>0.0</td>\n",
       "      <td>0.0</td>\n",
       "    </tr>\n",
       "    <tr>\n",
       "      <th>4</th>\n",
       "      <td>0.235294</td>\n",
       "      <td>0.268371</td>\n",
       "      <td>0.060576</td>\n",
       "      <td>0.777778</td>\n",
       "      <td>0.500</td>\n",
       "      <td>0.072464</td>\n",
       "      <td>0.166667</td>\n",
       "      <td>0.21875</td>\n",
       "      <td>0.299360</td>\n",
       "      <td>0.0</td>\n",
       "      <td>...</td>\n",
       "      <td>0.0</td>\n",
       "      <td>0.0</td>\n",
       "      <td>0.0</td>\n",
       "      <td>1.0</td>\n",
       "      <td>0.0</td>\n",
       "      <td>0.0</td>\n",
       "      <td>0.0</td>\n",
       "      <td>0.0</td>\n",
       "      <td>1.0</td>\n",
       "      <td>0.0</td>\n",
       "    </tr>\n",
       "  </tbody>\n",
       "</table>\n",
       "<p>5 rows × 344 columns</p>\n",
       "</div>"
      ],
      "text/plain": [
       "   MSSubClass  LotFrontage   LotArea  OverallQual  OverallCond  YearBuilt  \\\n",
       "0    0.235294     0.207668  0.033420     0.666667        0.500   0.050725   \n",
       "1    0.000000     0.255591  0.038795     0.555556        0.875   0.246377   \n",
       "2    0.235294     0.217252  0.046507     0.666667        0.500   0.065217   \n",
       "3    0.294118     0.191693  0.038561     0.666667        0.500   0.688406   \n",
       "4    0.235294     0.268371  0.060576     0.777778        0.500   0.072464   \n",
       "\n",
       "   YearRemodAdd  MasVnrArea  BsmtFinSF1  BsmtFinSF2  ...  SaleType_ConLw  \\\n",
       "0      0.116667     0.12250    0.322669         0.0  ...             0.0   \n",
       "1      0.566667     0.00000    0.446984         0.0  ...             0.0   \n",
       "2      0.133333     0.10125    0.222121         0.0  ...             0.0   \n",
       "3      0.666667     0.00000    0.098720         0.0  ...             0.0   \n",
       "4      0.166667     0.21875    0.299360         0.0  ...             0.0   \n",
       "\n",
       "   SaleType_New  SaleType_Oth  SaleType_WD  SaleCondition_Abnorml  \\\n",
       "0           0.0           0.0          1.0                    0.0   \n",
       "1           0.0           0.0          1.0                    0.0   \n",
       "2           0.0           0.0          1.0                    0.0   \n",
       "3           0.0           0.0          1.0                    1.0   \n",
       "4           0.0           0.0          1.0                    0.0   \n",
       "\n",
       "   SaleCondition_AdjLand  SaleCondition_Alloca  SaleCondition_Family  \\\n",
       "0                    0.0                   0.0                   0.0   \n",
       "1                    0.0                   0.0                   0.0   \n",
       "2                    0.0                   0.0                   0.0   \n",
       "3                    0.0                   0.0                   0.0   \n",
       "4                    0.0                   0.0                   0.0   \n",
       "\n",
       "   SaleCondition_Normal  SaleCondition_Partial  \n",
       "0                   1.0                    0.0  \n",
       "1                   1.0                    0.0  \n",
       "2                   1.0                    0.0  \n",
       "3                   0.0                    0.0  \n",
       "4                   1.0                    0.0  \n",
       "\n",
       "[5 rows x 344 columns]"
      ]
     },
     "execution_count": 87,
     "metadata": {},
     "output_type": "execute_result"
    }
   ],
   "source": [
    "X_train.head()"
   ]
  },
  {
   "cell_type": "code",
   "execution_count": 4,
   "id": "2a58b215",
   "metadata": {},
   "outputs": [],
   "source": [
    "y_true = train['SalePrice'].values"
   ]
  },
  {
   "cell_type": "code",
   "execution_count": 5,
   "id": "2428d7c5",
   "metadata": {},
   "outputs": [
    {
     "data": {
      "text/plain": [
       "array([208500, 181500, 223500, ..., 266500, 142125, 147500])"
      ]
     },
     "execution_count": 5,
     "metadata": {},
     "output_type": "execute_result"
    }
   ],
   "source": [
    "y_true "
   ]
  },
  {
   "cell_type": "code",
   "execution_count": 6,
   "id": "d31f9df7",
   "metadata": {},
   "outputs": [],
   "source": [
    "y_true = np.log1p(y_true)"
   ]
  },
  {
   "cell_type": "code",
   "execution_count": 7,
   "id": "f493a383",
   "metadata": {},
   "outputs": [
    {
     "data": {
      "text/plain": [
       "array([12.24769912, 12.10901644, 12.31717117, ..., 12.49313327,\n",
       "       11.86446927, 11.90159023])"
      ]
     },
     "execution_count": 7,
     "metadata": {},
     "output_type": "execute_result"
    }
   ],
   "source": [
    "y_true "
   ]
  },
  {
   "cell_type": "markdown",
   "id": "54a39e18",
   "metadata": {},
   "source": [
    "# Load models"
   ]
  },
  {
   "cell_type": "code",
   "execution_count": 8,
   "id": "11438242",
   "metadata": {},
   "outputs": [],
   "source": [
    "ridge_file = \"ridge/ridge_best.pkl\"\n",
    "lasso_file = \"lasso/lasso_best.pkl\""
   ]
  },
  {
   "cell_type": "code",
   "execution_count": 9,
   "id": "d3ec9f66",
   "metadata": {},
   "outputs": [],
   "source": [
    "with open(ridge_file, 'rb') as f:\n",
    "    ridge = pickle.load(f)\n",
    "    oof_ridge_load = pickle.load(f)\n",
    "    sub_ridge_load = pickle.load(f)"
   ]
  },
  {
   "cell_type": "code",
   "execution_count": 10,
   "id": "1e3c37d2",
   "metadata": {},
   "outputs": [],
   "source": [
    "with open(lasso_file, 'rb') as f:\n",
    "    lasso = pickle.load(f)\n",
    "    oof_lasso_load = pickle.load(f)\n",
    "    sub_lasso_load = pickle.load(f)"
   ]
  },
  {
   "cell_type": "code",
   "execution_count": 11,
   "id": "1200f663",
   "metadata": {},
   "outputs": [
    {
     "data": {
      "text/plain": [
       "Ridge(alpha=3.7491487176400535, max_iter=935, tol=0.001150285538917668)"
      ]
     },
     "execution_count": 11,
     "metadata": {},
     "output_type": "execute_result"
    }
   ],
   "source": [
    "ridge"
   ]
  },
  {
   "cell_type": "code",
   "execution_count": 12,
   "id": "72c45edd",
   "metadata": {},
   "outputs": [
    {
     "data": {
      "text/plain": [
       "array([206696.71088582, 203628.90215836, 212714.18238885, ...,\n",
       "       263412.68263122, 140071.00141104, 144364.25831351])"
      ]
     },
     "execution_count": 12,
     "metadata": {},
     "output_type": "execute_result"
    }
   ],
   "source": [
    "oof_ridge_load"
   ]
  },
  {
   "cell_type": "code",
   "execution_count": 13,
   "id": "9e7f38f6",
   "metadata": {},
   "outputs": [],
   "source": [
    "oof_ridge = np.log1p(oof_ridge_load)"
   ]
  },
  {
   "cell_type": "code",
   "execution_count": 14,
   "id": "8ce819f9",
   "metadata": {},
   "outputs": [
    {
     "data": {
      "text/plain": [
       "array([12.23901267, 12.22405942, 12.26770938, ..., 12.48148101,\n",
       "       11.84991187, 11.88010188])"
      ]
     },
     "execution_count": 14,
     "metadata": {},
     "output_type": "execute_result"
    }
   ],
   "source": [
    "oof_ridge"
   ]
  },
  {
   "cell_type": "code",
   "execution_count": 15,
   "id": "9d2a7f19",
   "metadata": {},
   "outputs": [
    {
     "data": {
      "text/plain": [
       "array([102983.04688615, 126591.4673688 , 151232.69914907, ...,\n",
       "       138305.25731862, 101363.34819557, 177360.26153891])"
      ]
     },
     "execution_count": 15,
     "metadata": {},
     "output_type": "execute_result"
    }
   ],
   "source": [
    "sub_ridge_load"
   ]
  },
  {
   "cell_type": "code",
   "execution_count": 16,
   "id": "780e401f",
   "metadata": {},
   "outputs": [
    {
     "data": {
      "text/plain": [
       "Lasso(alpha=0.00033138399899106596, max_iter=1009, selection='random',\n",
       "      tol=0.0008715067546363353)"
      ]
     },
     "execution_count": 16,
     "metadata": {},
     "output_type": "execute_result"
    }
   ],
   "source": [
    "lasso"
   ]
  },
  {
   "cell_type": "code",
   "execution_count": 17,
   "id": "74e45c42",
   "metadata": {},
   "outputs": [
    {
     "data": {
      "text/plain": [
       "array([207329.40328459, 199685.15818334, 214600.73838566, ...,\n",
       "       265231.76294223, 136129.37827068, 146244.70410202])"
      ]
     },
     "execution_count": 17,
     "metadata": {},
     "output_type": "execute_result"
    }
   ],
   "source": [
    "oof_lasso_load"
   ]
  },
  {
   "cell_type": "code",
   "execution_count": 18,
   "id": "9e2fbcd3",
   "metadata": {},
   "outputs": [],
   "source": [
    "oof_lasso = np.log1p(oof_lasso_load)"
   ]
  },
  {
   "cell_type": "code",
   "execution_count": 19,
   "id": "1e0396fb",
   "metadata": {},
   "outputs": [
    {
     "data": {
      "text/plain": [
       "array([12.24206895, 12.2045022 , 12.27653921, ..., 12.48836307,\n",
       "       11.82136837, 11.89304339])"
      ]
     },
     "execution_count": 19,
     "metadata": {},
     "output_type": "execute_result"
    }
   ],
   "source": [
    "oof_lasso"
   ]
  },
  {
   "cell_type": "code",
   "execution_count": 20,
   "id": "f65fc043",
   "metadata": {},
   "outputs": [
    {
     "data": {
      "text/plain": [
       "array([105554.20345355, 133963.26207084, 154487.27174914, ...,\n",
       "       141217.61786711, 106014.25892907, 184012.21909543])"
      ]
     },
     "execution_count": 20,
     "metadata": {},
     "output_type": "execute_result"
    }
   ],
   "source": [
    "sub_lasso_load"
   ]
  },
  {
   "cell_type": "code",
   "execution_count": 21,
   "id": "3fd5e57c",
   "metadata": {},
   "outputs": [],
   "source": [
    "oof = np.zeros((2, y_true.shape[0]))"
   ]
  },
  {
   "cell_type": "code",
   "execution_count": 24,
   "id": "6b164192",
   "metadata": {},
   "outputs": [
    {
     "data": {
      "text/plain": [
       "array([[12.23901267, 12.22405942, 12.26770938, ..., 12.48148101,\n",
       "        11.84991187, 11.88010188],\n",
       "       [12.24206895, 12.2045022 , 12.27653921, ..., 12.48836307,\n",
       "        11.82136837, 11.89304339]])"
      ]
     },
     "execution_count": 24,
     "metadata": {},
     "output_type": "execute_result"
    }
   ],
   "source": [
    "oof[0] = oof_ridge\n",
    "oof[1] = oof_lasso\n",
    "oof"
   ]
  },
  {
   "cell_type": "code",
   "execution_count": 25,
   "id": "f6d0e27a",
   "metadata": {},
   "outputs": [],
   "source": [
    "def get_models():\n",
    "    models = []\n",
    "    models.append(ridge)\n",
    "    models.append(lasso)\n",
    "    return models"
   ]
  },
  {
   "cell_type": "code",
   "execution_count": 26,
   "id": "fef54fab",
   "metadata": {},
   "outputs": [],
   "source": [
    "models = get_models()"
   ]
  },
  {
   "cell_type": "markdown",
   "id": "26d4b74b",
   "metadata": {},
   "source": [
    "# Voting Classifier"
   ]
  },
  {
   "cell_type": "code",
   "execution_count": 27,
   "id": "e43def75",
   "metadata": {},
   "outputs": [],
   "source": [
    "#clf = [rf, et, knn, svc, rg]\n",
    "#eclf = VotingClassifier(estimators=[('Random Forests', rf), ('Extra Trees', et), ('KNeighbors', knn), ('SVC', svc), ('Ridge Classifier', rg)], voting='hard')"
   ]
  },
  {
   "cell_type": "markdown",
   "id": "a762f91a",
   "metadata": {},
   "source": [
    "# Weighted Averaging"
   ]
  },
  {
   "cell_type": "code",
   "execution_count": 28,
   "id": "94a36c34",
   "metadata": {},
   "outputs": [],
   "source": [
    "from sklearn.metrics import mean_squared_error"
   ]
  },
  {
   "cell_type": "code",
   "execution_count": 64,
   "id": "446b6ff5",
   "metadata": {},
   "outputs": [],
   "source": [
    "def func_numpy_metric(weights):\n",
    "    oof_blend = np.tensordot(weights, oof, axes = 1)\n",
    "    #oof_blend = weights * oof\n",
    "    return mean_squared_error(y_true, oof_blend)"
   ]
  },
  {
   "cell_type": "code",
   "execution_count": 65,
   "id": "6ee61f7e",
   "metadata": {},
   "outputs": [
    {
     "data": {
      "text/plain": [
       "'def grad_func(weights):\\n    gradients = np.zeros(oof.shape[0])\\n    for i in range(oof.shape[0]):\\n        a, b, c = y_true, oof[i], np.zeros((oof.shape[1]))\\n        c += weights[i] * oof[i]\\n        gradients[i] = 1.0 / oof.shape[0] * (a-c) * (-a)\\n    return gradients'"
      ]
     },
     "execution_count": 65,
     "metadata": {},
     "output_type": "execute_result"
    }
   ],
   "source": [
    "\"\"\"def grad_func(weights):\n",
    "    gradients = np.zeros(oof.shape[0])\n",
    "    for i in range(oof.shape[0]):\n",
    "        a, b, c = y_true, oof[i], np.zeros((oof.shape[1]))\n",
    "        c += weights[i] * oof[i]\n",
    "        gradients[i] = 1.0 / oof.shape[0] * (a-c) * (-a)\n",
    "    return gradients\"\"\""
   ]
  },
  {
   "cell_type": "code",
   "execution_count": 66,
   "id": "11c175db",
   "metadata": {},
   "outputs": [
    {
     "name": "stdout",
     "output_type": "stream",
     "text": [
      "1 CV MSE:\t 0.01362452459012408\n",
      "1 CV RMSE:\t 0.11672413884935746\n",
      "2 CV MSE:\t 0.012320876866073579\n",
      "2 CV RMSE:\t 0.11099944534128799\n"
     ]
    }
   ],
   "source": [
    "neg_mean_square_scores = {}\n",
    "for i, key in enumerate(oof):\n",
    "    score_oof = mean_squared_error(y_true, key)\n",
    "    neg_mean_square_scores[i] = score_oof\n",
    "    print(f'{i+1} CV MSE:\\t', score_oof)\n",
    "    print(f'{i+1} CV RMSE:\\t', np.sqrt(score_oof))"
   ]
  },
  {
   "cell_type": "code",
   "execution_count": 67,
   "id": "132dea9d",
   "metadata": {},
   "outputs": [
    {
     "data": {
      "text/plain": [
       "[0.5, 0.5]"
      ]
     },
     "execution_count": 67,
     "metadata": {},
     "output_type": "execute_result"
    }
   ],
   "source": [
    "init_guess = [1 / oof.shape[0]] * oof.shape[0]\n",
    "init_guess"
   ]
  },
  {
   "cell_type": "code",
   "execution_count": 68,
   "id": "945f8827",
   "metadata": {},
   "outputs": [
    {
     "data": {
      "text/plain": [
       "[(0, 1), (0, 1)]"
      ]
     },
     "execution_count": 68,
     "metadata": {},
     "output_type": "execute_result"
    }
   ],
   "source": [
    "bnds = [(0, 1) for _ in range(oof.shape[0])]\n",
    "bnds"
   ]
  },
  {
   "cell_type": "code",
   "execution_count": 71,
   "id": "79718888",
   "metadata": {},
   "outputs": [
    {
     "data": {
      "text/plain": [
       "array([[12.23901267, 12.22405942, 12.26770938, ..., 12.48148101,\n",
       "        11.84991187, 11.88010188],\n",
       "       [12.24206895, 12.2045022 , 12.27653921, ..., 12.48836307,\n",
       "        11.82136837, 11.89304339]])"
      ]
     },
     "execution_count": 71,
     "metadata": {},
     "output_type": "execute_result"
    }
   ],
   "source": [
    "oof"
   ]
  },
  {
   "cell_type": "code",
   "execution_count": 72,
   "id": "300dcd04",
   "metadata": {},
   "outputs": [
    {
     "data": {
      "text/plain": [
       "array([12.24054081, 12.21428081, 12.27212429, ..., 12.48492204,\n",
       "       11.83564012, 11.88657264])"
      ]
     },
     "execution_count": 72,
     "metadata": {},
     "output_type": "execute_result"
    }
   ],
   "source": [
    "oof_blend2 = np.tensordot(init_guess, oof, axes = 1)\n",
    "oof_blend2"
   ]
  },
  {
   "cell_type": "code",
   "execution_count": 77,
   "id": "20219ae8",
   "metadata": {},
   "outputs": [
    {
     "name": "stdout",
     "output_type": "stream",
     "text": [
      "Inital Blend OOF: 0.012788533627330364\n",
      "Optimization terminated successfully.\n",
      "         Current function value: 0.012321\n",
      "         Iterations: 18\n",
      "         Function evaluations: 34\n",
      "[00:00] Optimised Blend OOF: 0.012320876866073579\n",
      "RMSE Optimised Blend OOF: 0.11099944534128799\n",
      "Optimised Weights: [0. 1.]\n"
     ]
    }
   ],
   "source": [
    "# tol = 1e-10\n",
    "init_guess = [1 / oof.shape[0]] * oof.shape[0]\n",
    "bnds = [(0, 1) for _ in range(oof.shape[0])]\n",
    "'''cons = {'type': 'eq', \n",
    "        'fun': lambda x: np.sum(x) - 1, \n",
    "        'jac': lambda x: [1] * len(x)}\n",
    "'''\n",
    "print('Inital Blend OOF:', func_numpy_metric(init_guess))\n",
    "start_time = time()\n",
    "res_scipy = minimize(fun = func_numpy_metric, \n",
    "                     x0 = init_guess, \n",
    "                     method = 'nelder-mead', \n",
    "                     #jac = grad_func, # grad_func \n",
    "                     bounds = bnds, \n",
    "                     #constraints = cons, \n",
    "                     #tol = tol,\n",
    "                     options={'xatol': 1e-8, 'disp': True})\n",
    "print(f'[{str(datetime.timedelta(seconds = time() - start_time))[2:7]}] Optimised Blend OOF:', res_scipy.fun)\n",
    "print('RMSE Optimised Blend OOF:', np.sqrt(res_scipy.fun))\n",
    "print('Optimised Weights:', res_scipy.x)"
   ]
  },
  {
   "cell_type": "code",
   "execution_count": 74,
   "id": "2d8649af",
   "metadata": {},
   "outputs": [
    {
     "name": "stdout",
     "output_type": "stream",
     "text": [
      "Check the sum of all weights: 1.0\n",
      "Great! The sum of all weights equals to 1!\n"
     ]
    }
   ],
   "source": [
    "print('Check the sum of all weights:', np.sum(res_scipy.x))\n",
    "if np.sum(res_scipy.x) - 1 <= tol:\n",
    "    print('Great! The sum of all weights equals to 1!')\n",
    "else:\n",
    "    print('Manual adjustion is needed to modify the weights.')"
   ]
  },
  {
   "cell_type": "markdown",
   "id": "8315c404",
   "metadata": {},
   "source": [
    "# Stacking"
   ]
  },
  {
   "cell_type": "code",
   "execution_count": 309,
   "id": "942cefb9",
   "metadata": {},
   "outputs": [],
   "source": [
    "from sklearn.linear_model import LinearRegression\n",
    "from mlens.metrics import make_scorer\n",
    "from sklearn.metrics import mean_squared_error"
   ]
  },
  {
   "cell_type": "code",
   "execution_count": 295,
   "id": "e7685620",
   "metadata": {},
   "outputs": [],
   "source": [
    "def scoring(y_true, y_pred):\n",
    "    return -mean_squared_error(y_true, y_pred)"
   ]
  },
  {
   "cell_type": "code",
   "execution_count": 324,
   "id": "1a11b322",
   "metadata": {},
   "outputs": [],
   "source": [
    "stacking = SuperLearner(scorer=scoring, folds=10, shuffle=True, sample_size=len(X_train), random_state=SEED, verbose=1)"
   ]
  },
  {
   "cell_type": "code",
   "execution_count": 325,
   "id": "c85a3b2a",
   "metadata": {},
   "outputs": [
    {
     "data": {
      "text/plain": [
       "SuperLearner(array_check=None, backend=None, folds=10,\n",
       "       layers=[Layer(backend='threading', dtype=<class 'numpy.float32'>, n_jobs=-1,\n",
       "   name='layer-1', propagate_features=None, raise_on_exception=True,\n",
       "   random_state=5327, shuffle=True,\n",
       "   stack=[Group(backend='threading', dtype=<class 'numpy.float32'>,\n",
       "   indexer=FoldIndex(X=None, folds=10, raise_on_ex...3b4700>)],\n",
       "   n_jobs=-1, name='group-48', raise_on_exception=True, transformers=[])],\n",
       "   verbose=0)],\n",
       "       model_selection=False, n_jobs=None, raise_on_exception=True,\n",
       "       random_state=21, sample_size=1456,\n",
       "       scorer=<function scoring at 0x7f16693b4700>, shuffle=True,\n",
       "       verbose=1)"
      ]
     },
     "execution_count": 325,
     "metadata": {},
     "output_type": "execute_result"
    }
   ],
   "source": [
    "stacking.add(models)"
   ]
  },
  {
   "cell_type": "code",
   "execution_count": 326,
   "id": "3493f2fe",
   "metadata": {},
   "outputs": [
    {
     "data": {
      "text/plain": [
       "SuperLearner(array_check=None, backend=None, folds=10,\n",
       "       layers=[Layer(backend='threading', dtype=<class 'numpy.float32'>, n_jobs=-1,\n",
       "   name='layer-1', propagate_features=None, raise_on_exception=True,\n",
       "   random_state=5327, shuffle=True,\n",
       "   stack=[Group(backend='threading', dtype=<class 'numpy.float32'>,\n",
       "   indexer=FoldIndex(X=None, folds=10, raise_on_ex...3b4700>)],\n",
       "   n_jobs=-1, name='group-49', raise_on_exception=True, transformers=[])],\n",
       "   verbose=0)],\n",
       "       model_selection=False, n_jobs=None, raise_on_exception=True,\n",
       "       random_state=21, sample_size=1456,\n",
       "       scorer=<function scoring at 0x7f16693b4700>, shuffle=True,\n",
       "       verbose=1)"
      ]
     },
     "execution_count": 326,
     "metadata": {},
     "output_type": "execute_result"
    }
   ],
   "source": [
    "stacking.add_meta(LinearRegression())"
   ]
  },
  {
   "cell_type": "code",
   "execution_count": 327,
   "id": "f91a2767",
   "metadata": {},
   "outputs": [
    {
     "data": {
      "text/plain": [
       "array([[0.23529412, 0.20766773, 0.0334198 , ..., 0.        , 1.        ,\n",
       "        0.        ],\n",
       "       [0.        , 0.25559105, 0.03879502, ..., 0.        , 1.        ,\n",
       "        0.        ],\n",
       "       [0.23529412, 0.2172524 , 0.04650728, ..., 0.        , 1.        ,\n",
       "        0.        ],\n",
       "       ...,\n",
       "       [0.29411765, 0.21086262, 0.03618687, ..., 0.        , 1.        ,\n",
       "        0.        ],\n",
       "       [0.        , 0.2172524 , 0.03934189, ..., 0.        , 1.        ,\n",
       "        0.        ],\n",
       "       [0.        , 0.23961661, 0.04037019, ..., 0.        , 1.        ,\n",
       "        0.        ]])"
      ]
     },
     "execution_count": 327,
     "metadata": {},
     "output_type": "execute_result"
    }
   ],
   "source": [
    "X_train.to_numpy()"
   ]
  },
  {
   "cell_type": "code",
   "execution_count": 328,
   "id": "e485e8c0",
   "metadata": {},
   "outputs": [
    {
     "data": {
      "text/plain": [
       "array([12.24769912, 12.10901644, 12.31717117, ..., 12.49313327,\n",
       "       11.86446927, 11.90159023])"
      ]
     },
     "execution_count": 328,
     "metadata": {},
     "output_type": "execute_result"
    }
   ],
   "source": [
    "y_train.to_numpy()"
   ]
  },
  {
   "cell_type": "code",
   "execution_count": 329,
   "id": "61f6ffc8",
   "metadata": {},
   "outputs": [
    {
     "name": "stdout",
     "output_type": "stream",
     "text": [
      "\n",
      "Fitting 2 layers\n",
      "Fit complete                        | 00:00:00\n"
     ]
    },
    {
     "data": {
      "text/plain": [
       "SuperLearner(array_check=None, backend=None, folds=10,\n",
       "       layers=[Layer(backend='threading', dtype=<class 'numpy.float32'>, n_jobs=-1,\n",
       "   name='layer-1', propagate_features=None, raise_on_exception=True,\n",
       "   random_state=5327, shuffle=True,\n",
       "   stack=[Group(backend='threading', dtype=<class 'numpy.float32'>,\n",
       "   indexer=FoldIndex(X=None, folds=10, raise_on_ex...3b4700>)],\n",
       "   n_jobs=-1, name='group-49', raise_on_exception=True, transformers=[])],\n",
       "   verbose=0)],\n",
       "       model_selection=False, n_jobs=None, raise_on_exception=True,\n",
       "       random_state=21, sample_size=1456,\n",
       "       scorer=<function scoring at 0x7f16693b4700>, shuffle=True,\n",
       "       verbose=1)"
      ]
     },
     "execution_count": 329,
     "metadata": {},
     "output_type": "execute_result"
    }
   ],
   "source": [
    "stacking.fit(X_train.to_numpy(), y_train.to_numpy())"
   ]
  },
  {
   "cell_type": "code",
   "execution_count": 330,
   "id": "1daf7444",
   "metadata": {},
   "outputs": [
    {
     "name": "stdout",
     "output_type": "stream",
     "text": [
      "\n",
      "Predicting 2 layers\n",
      "Predict complete                    | 00:00:00\n"
     ]
    }
   ],
   "source": [
    "mse = mean_squared_error(y_train.to_numpy(), stacking.predict(X_train.to_numpy()))"
   ]
  },
  {
   "cell_type": "code",
   "execution_count": 331,
   "id": "0ba2cd6a",
   "metadata": {},
   "outputs": [
    {
     "data": {
      "text/plain": [
       "0.009635365364576407"
      ]
     },
     "execution_count": 331,
     "metadata": {},
     "output_type": "execute_result"
    }
   ],
   "source": [
    "mse"
   ]
  },
  {
   "cell_type": "code",
   "execution_count": 332,
   "id": "0899aafe",
   "metadata": {},
   "outputs": [
    {
     "data": {
      "text/plain": [
       "0.09815989692627232"
      ]
     },
     "execution_count": 332,
     "metadata": {},
     "output_type": "execute_result"
    }
   ],
   "source": [
    "rmse = np.sqrt(mse)\n",
    "rmse"
   ]
  },
  {
   "cell_type": "code",
   "execution_count": 318,
   "id": "0f7039ed",
   "metadata": {},
   "outputs": [
    {
     "name": "stdout",
     "output_type": "stream",
     "text": [
      "\n",
      "Predicting 2 layers\n",
      "Predict complete                    | 00:00:00\n"
     ]
    }
   ],
   "source": [
    "stacking_pred = np.expm1(stacking.predict(X_pred.to_numpy()))"
   ]
  },
  {
   "cell_type": "code",
   "execution_count": null,
   "id": "547224bd",
   "metadata": {},
   "outputs": [],
   "source": []
  },
  {
   "cell_type": "markdown",
   "id": "64436651",
   "metadata": {},
   "source": [
    "# Blending"
   ]
  },
  {
   "cell_type": "code",
   "execution_count": 335,
   "id": "9119e249",
   "metadata": {},
   "outputs": [],
   "source": [
    "blending = BlendEnsemble(test_size=0.5, shuffle=True, scorer=scoring, sample_size=len(X_train), random_state=SEED, verbose=1)"
   ]
  },
  {
   "cell_type": "code",
   "execution_count": 336,
   "id": "4b339f7d",
   "metadata": {},
   "outputs": [
    {
     "data": {
      "text/plain": [
       "BlendEnsemble(array_check=None, backend=None,\n",
       "       layers=[Layer(backend='threading', dtype=<class 'numpy.float32'>, n_jobs=-1,\n",
       "   name='layer-1', propagate_features=None, raise_on_exception=True,\n",
       "   random_state=5327, shuffle=True,\n",
       "   stack=[Group(backend='threading', dtype=<class 'numpy.float32'>,\n",
       "   indexer=BlendIndex(X=None, raise_on_exception=T...3b4700>)],\n",
       "   n_jobs=-1, name='group-50', raise_on_exception=True, transformers=[])],\n",
       "   verbose=0)],\n",
       "       model_selection=False, n_jobs=None, raise_on_exception=True,\n",
       "       random_state=21, sample_size=1456,\n",
       "       scorer=<function scoring at 0x7f16693b4700>, shuffle=True,\n",
       "       test_size=0.5, verbose=1)"
      ]
     },
     "execution_count": 336,
     "metadata": {},
     "output_type": "execute_result"
    }
   ],
   "source": [
    "blending.add(models)"
   ]
  },
  {
   "cell_type": "code",
   "execution_count": 337,
   "id": "be54e952",
   "metadata": {},
   "outputs": [
    {
     "data": {
      "text/plain": [
       "BlendEnsemble(array_check=None, backend=None,\n",
       "       layers=[Layer(backend='threading', dtype=<class 'numpy.float32'>, n_jobs=-1,\n",
       "   name='layer-1', propagate_features=None, raise_on_exception=True,\n",
       "   random_state=5327, shuffle=True,\n",
       "   stack=[Group(backend='threading', dtype=<class 'numpy.float32'>,\n",
       "   indexer=BlendIndex(X=None, raise_on_exception=T...3b4700>)],\n",
       "   n_jobs=-1, name='group-51', raise_on_exception=True, transformers=[])],\n",
       "   verbose=0)],\n",
       "       model_selection=False, n_jobs=None, raise_on_exception=True,\n",
       "       random_state=21, sample_size=1456,\n",
       "       scorer=<function scoring at 0x7f16693b4700>, shuffle=True,\n",
       "       test_size=0.5, verbose=1)"
      ]
     },
     "execution_count": 337,
     "metadata": {},
     "output_type": "execute_result"
    }
   ],
   "source": [
    "blending.add_meta(LinearRegression())"
   ]
  },
  {
   "cell_type": "code",
   "execution_count": 338,
   "id": "bde92934",
   "metadata": {},
   "outputs": [
    {
     "name": "stdout",
     "output_type": "stream",
     "text": [
      "\n",
      "Fitting 2 layers\n",
      "Fit complete                        | 00:00:00\n"
     ]
    },
    {
     "data": {
      "text/plain": [
       "BlendEnsemble(array_check=None, backend=None,\n",
       "       layers=[Layer(backend='threading', dtype=<class 'numpy.float32'>, n_jobs=-1,\n",
       "   name='layer-1', propagate_features=None, raise_on_exception=True,\n",
       "   random_state=5327, shuffle=True,\n",
       "   stack=[Group(backend='threading', dtype=<class 'numpy.float32'>,\n",
       "   indexer=BlendIndex(X=None, raise_on_exception=T...3b4700>)],\n",
       "   n_jobs=-1, name='group-51', raise_on_exception=True, transformers=[])],\n",
       "   verbose=0)],\n",
       "       model_selection=False, n_jobs=None, raise_on_exception=True,\n",
       "       random_state=21, sample_size=1456,\n",
       "       scorer=<function scoring at 0x7f16693b4700>, shuffle=True,\n",
       "       test_size=0.5, verbose=1)"
      ]
     },
     "execution_count": 338,
     "metadata": {},
     "output_type": "execute_result"
    }
   ],
   "source": [
    "blending.fit(X_train.to_numpy(), y_train.to_numpy())"
   ]
  },
  {
   "cell_type": "code",
   "execution_count": 339,
   "id": "fccf8f93",
   "metadata": {},
   "outputs": [
    {
     "name": "stdout",
     "output_type": "stream",
     "text": [
      "\n",
      "Predicting 2 layers\n",
      "Predict complete                    | 00:00:00\n"
     ]
    },
    {
     "data": {
      "text/plain": [
       "0.01010472361349041"
      ]
     },
     "execution_count": 339,
     "metadata": {},
     "output_type": "execute_result"
    }
   ],
   "source": [
    "mse = mean_squared_error(y_train.to_numpy(), blending.predict(X_train.to_numpy()))\n",
    "mse"
   ]
  },
  {
   "cell_type": "code",
   "execution_count": 340,
   "id": "9afe749e",
   "metadata": {},
   "outputs": [
    {
     "data": {
      "text/plain": [
       "0.10052225431958045"
      ]
     },
     "execution_count": 340,
     "metadata": {},
     "output_type": "execute_result"
    }
   ],
   "source": [
    "rmse = np.sqrt(mse)\n",
    "rmse"
   ]
  },
  {
   "cell_type": "code",
   "execution_count": 341,
   "id": "19e301d6",
   "metadata": {},
   "outputs": [
    {
     "name": "stdout",
     "output_type": "stream",
     "text": [
      "\n",
      "Predicting 2 layers\n",
      "Predict complete                    | 00:00:00\n"
     ]
    }
   ],
   "source": [
    "blending_pred = np.expm1(stacking.predict(X_pred.to_numpy()))"
   ]
  },
  {
   "cell_type": "code",
   "execution_count": 342,
   "id": "c33da57c",
   "metadata": {},
   "outputs": [
    {
     "data": {
      "text/plain": [
       "array([105836.5 , 135387.5 , 155100.  , ..., 141615.9 , 106927.33,\n",
       "       185440.38], dtype=float32)"
      ]
     },
     "execution_count": 342,
     "metadata": {},
     "output_type": "execute_result"
    }
   ],
   "source": [
    "blending_pred"
   ]
  },
  {
   "cell_type": "markdown",
   "id": "184c1031",
   "metadata": {},
   "source": [
    "# Final Submission"
   ]
  },
  {
   "cell_type": "code",
   "execution_count": 320,
   "id": "2c98cebf",
   "metadata": {},
   "outputs": [],
   "source": [
    "# LB 0.19652\n",
    "ens = stacking_pred\n",
    "submission = pd.DataFrame()\n",
    "submission['Id'] = pred['Id']\n",
    "submission[\"SalePrice\"] = ens\n",
    "submission.to_csv(\"submit_ensemble.csv\", index=False)"
   ]
  },
  {
   "cell_type": "code",
   "execution_count": null,
   "id": "d7f0b877",
   "metadata": {},
   "outputs": [],
   "source": []
  }
 ],
 "metadata": {
  "kernelspec": {
   "display_name": "Python 3 (ipykernel)",
   "language": "python",
   "name": "python3"
  },
  "language_info": {
   "codemirror_mode": {
    "name": "ipython",
    "version": 3
   },
   "file_extension": ".py",
   "mimetype": "text/x-python",
   "name": "python",
   "nbconvert_exporter": "python",
   "pygments_lexer": "ipython3",
   "version": "3.8.10"
  }
 },
 "nbformat": 4,
 "nbformat_minor": 5
}
