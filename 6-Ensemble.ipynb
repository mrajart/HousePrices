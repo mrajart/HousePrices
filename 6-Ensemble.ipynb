{
 "cells": [
  {
   "cell_type": "code",
   "execution_count": 52,
   "id": "de32529b",
   "metadata": {},
   "outputs": [],
   "source": [
    "from mlens.ensemble import SuperLearner, BlendEnsemble\n",
    "import pickle\n",
    "from sklearn.ensemble import VotingClassifier\n",
    "import pandas as pd\n",
    "import numpy as np\n",
    "from scipy.optimize import minimize, fsolve\n",
    "from time import time\n",
    "import datetime\n",
    "from xgboost import XGBRegressor"
   ]
  },
  {
   "cell_type": "code",
   "execution_count": 53,
   "id": "d2b588bf",
   "metadata": {},
   "outputs": [],
   "source": [
    "SEED = 21"
   ]
  },
  {
   "cell_type": "code",
   "execution_count": 54,
   "id": "9a874d73",
   "metadata": {},
   "outputs": [],
   "source": [
    "train = pd.read_feather(\"transform/train_transform_after_preparation.feather\")\n",
    "pred = pd.read_feather(\"transform/test_transform_after_preparation.feather\")"
   ]
  },
  {
   "cell_type": "code",
   "execution_count": 55,
   "id": "cdd26561",
   "metadata": {},
   "outputs": [
    {
     "name": "stderr",
     "output_type": "stream",
     "text": [
      "/tmp/ipykernel_4480/2050573941.py:1: FutureWarning: In a future version of pandas all arguments of DataFrame.drop except for the argument 'labels' will be keyword-only\n",
      "  X_train = train.drop(['SalePrice', 'Id'], 1)\n"
     ]
    }
   ],
   "source": [
    "X_train = train.drop(['SalePrice', 'Id'], 1)\n",
    "y_train = np.log1p(train['SalePrice'])"
   ]
  },
  {
   "cell_type": "code",
   "execution_count": 56,
   "id": "9fe932f8",
   "metadata": {},
   "outputs": [
    {
     "name": "stderr",
     "output_type": "stream",
     "text": [
      "/tmp/ipykernel_4480/2827053377.py:1: FutureWarning: In a future version of pandas all arguments of DataFrame.drop except for the argument 'labels' will be keyword-only\n",
      "  X_pred = pred.drop('Id', 1)\n"
     ]
    }
   ],
   "source": [
    "X_pred = pred.drop('Id', 1)"
   ]
  },
  {
   "cell_type": "code",
   "execution_count": 57,
   "id": "4e08c3e0",
   "metadata": {},
   "outputs": [
    {
     "data": {
      "text/html": [
       "<div>\n",
       "<style scoped>\n",
       "    .dataframe tbody tr th:only-of-type {\n",
       "        vertical-align: middle;\n",
       "    }\n",
       "\n",
       "    .dataframe tbody tr th {\n",
       "        vertical-align: top;\n",
       "    }\n",
       "\n",
       "    .dataframe thead th {\n",
       "        text-align: right;\n",
       "    }\n",
       "</style>\n",
       "<table border=\"1\" class=\"dataframe\">\n",
       "  <thead>\n",
       "    <tr style=\"text-align: right;\">\n",
       "      <th></th>\n",
       "      <th>MSSubClass</th>\n",
       "      <th>LotFrontage</th>\n",
       "      <th>LotArea</th>\n",
       "      <th>OverallQual</th>\n",
       "      <th>OverallCond</th>\n",
       "      <th>YearBuilt</th>\n",
       "      <th>YearRemodAdd</th>\n",
       "      <th>MasVnrArea</th>\n",
       "      <th>BsmtFinSF1</th>\n",
       "      <th>BsmtFinSF2</th>\n",
       "      <th>...</th>\n",
       "      <th>SaleType_ConLw</th>\n",
       "      <th>SaleType_New</th>\n",
       "      <th>SaleType_Oth</th>\n",
       "      <th>SaleType_WD</th>\n",
       "      <th>SaleCondition_Abnorml</th>\n",
       "      <th>SaleCondition_AdjLand</th>\n",
       "      <th>SaleCondition_Alloca</th>\n",
       "      <th>SaleCondition_Family</th>\n",
       "      <th>SaleCondition_Normal</th>\n",
       "      <th>SaleCondition_Partial</th>\n",
       "    </tr>\n",
       "  </thead>\n",
       "  <tbody>\n",
       "    <tr>\n",
       "      <th>0</th>\n",
       "      <td>60</td>\n",
       "      <td>65.0</td>\n",
       "      <td>8450</td>\n",
       "      <td>7</td>\n",
       "      <td>5</td>\n",
       "      <td>7</td>\n",
       "      <td>7</td>\n",
       "      <td>196.0</td>\n",
       "      <td>706</td>\n",
       "      <td>0</td>\n",
       "      <td>...</td>\n",
       "      <td>0</td>\n",
       "      <td>0</td>\n",
       "      <td>0</td>\n",
       "      <td>1</td>\n",
       "      <td>0</td>\n",
       "      <td>0</td>\n",
       "      <td>0</td>\n",
       "      <td>0</td>\n",
       "      <td>1</td>\n",
       "      <td>0</td>\n",
       "    </tr>\n",
       "    <tr>\n",
       "      <th>1</th>\n",
       "      <td>20</td>\n",
       "      <td>80.0</td>\n",
       "      <td>9600</td>\n",
       "      <td>6</td>\n",
       "      <td>8</td>\n",
       "      <td>34</td>\n",
       "      <td>34</td>\n",
       "      <td>0.0</td>\n",
       "      <td>978</td>\n",
       "      <td>0</td>\n",
       "      <td>...</td>\n",
       "      <td>0</td>\n",
       "      <td>0</td>\n",
       "      <td>0</td>\n",
       "      <td>1</td>\n",
       "      <td>0</td>\n",
       "      <td>0</td>\n",
       "      <td>0</td>\n",
       "      <td>0</td>\n",
       "      <td>1</td>\n",
       "      <td>0</td>\n",
       "    </tr>\n",
       "    <tr>\n",
       "      <th>2</th>\n",
       "      <td>60</td>\n",
       "      <td>68.0</td>\n",
       "      <td>11250</td>\n",
       "      <td>7</td>\n",
       "      <td>5</td>\n",
       "      <td>9</td>\n",
       "      <td>8</td>\n",
       "      <td>162.0</td>\n",
       "      <td>486</td>\n",
       "      <td>0</td>\n",
       "      <td>...</td>\n",
       "      <td>0</td>\n",
       "      <td>0</td>\n",
       "      <td>0</td>\n",
       "      <td>1</td>\n",
       "      <td>0</td>\n",
       "      <td>0</td>\n",
       "      <td>0</td>\n",
       "      <td>0</td>\n",
       "      <td>1</td>\n",
       "      <td>0</td>\n",
       "    </tr>\n",
       "    <tr>\n",
       "      <th>3</th>\n",
       "      <td>70</td>\n",
       "      <td>60.0</td>\n",
       "      <td>9550</td>\n",
       "      <td>7</td>\n",
       "      <td>5</td>\n",
       "      <td>95</td>\n",
       "      <td>40</td>\n",
       "      <td>0.0</td>\n",
       "      <td>216</td>\n",
       "      <td>0</td>\n",
       "      <td>...</td>\n",
       "      <td>0</td>\n",
       "      <td>0</td>\n",
       "      <td>0</td>\n",
       "      <td>1</td>\n",
       "      <td>1</td>\n",
       "      <td>0</td>\n",
       "      <td>0</td>\n",
       "      <td>0</td>\n",
       "      <td>0</td>\n",
       "      <td>0</td>\n",
       "    </tr>\n",
       "    <tr>\n",
       "      <th>4</th>\n",
       "      <td>60</td>\n",
       "      <td>84.0</td>\n",
       "      <td>14260</td>\n",
       "      <td>8</td>\n",
       "      <td>5</td>\n",
       "      <td>10</td>\n",
       "      <td>10</td>\n",
       "      <td>350.0</td>\n",
       "      <td>655</td>\n",
       "      <td>0</td>\n",
       "      <td>...</td>\n",
       "      <td>0</td>\n",
       "      <td>0</td>\n",
       "      <td>0</td>\n",
       "      <td>1</td>\n",
       "      <td>0</td>\n",
       "      <td>0</td>\n",
       "      <td>0</td>\n",
       "      <td>0</td>\n",
       "      <td>1</td>\n",
       "      <td>0</td>\n",
       "    </tr>\n",
       "  </tbody>\n",
       "</table>\n",
       "<p>5 rows × 344 columns</p>\n",
       "</div>"
      ],
      "text/plain": [
       "   MSSubClass  LotFrontage  LotArea  OverallQual  OverallCond  YearBuilt  \\\n",
       "0          60         65.0     8450            7            5          7   \n",
       "1          20         80.0     9600            6            8         34   \n",
       "2          60         68.0    11250            7            5          9   \n",
       "3          70         60.0     9550            7            5         95   \n",
       "4          60         84.0    14260            8            5         10   \n",
       "\n",
       "   YearRemodAdd  MasVnrArea  BsmtFinSF1  BsmtFinSF2  ...  SaleType_ConLw  \\\n",
       "0             7       196.0         706           0  ...               0   \n",
       "1            34         0.0         978           0  ...               0   \n",
       "2             8       162.0         486           0  ...               0   \n",
       "3            40         0.0         216           0  ...               0   \n",
       "4            10       350.0         655           0  ...               0   \n",
       "\n",
       "   SaleType_New  SaleType_Oth  SaleType_WD  SaleCondition_Abnorml  \\\n",
       "0             0             0            1                      0   \n",
       "1             0             0            1                      0   \n",
       "2             0             0            1                      0   \n",
       "3             0             0            1                      1   \n",
       "4             0             0            1                      0   \n",
       "\n",
       "   SaleCondition_AdjLand  SaleCondition_Alloca  SaleCondition_Family  \\\n",
       "0                      0                     0                     0   \n",
       "1                      0                     0                     0   \n",
       "2                      0                     0                     0   \n",
       "3                      0                     0                     0   \n",
       "4                      0                     0                     0   \n",
       "\n",
       "   SaleCondition_Normal  SaleCondition_Partial  \n",
       "0                     1                      0  \n",
       "1                     1                      0  \n",
       "2                     1                      0  \n",
       "3                     0                      0  \n",
       "4                     1                      0  \n",
       "\n",
       "[5 rows x 344 columns]"
      ]
     },
     "execution_count": 57,
     "metadata": {},
     "output_type": "execute_result"
    }
   ],
   "source": [
    "X_train.head()"
   ]
  },
  {
   "cell_type": "code",
   "execution_count": 58,
   "id": "2a58b215",
   "metadata": {},
   "outputs": [],
   "source": [
    "y_true = train['SalePrice'].values"
   ]
  },
  {
   "cell_type": "code",
   "execution_count": 59,
   "id": "2428d7c5",
   "metadata": {},
   "outputs": [
    {
     "data": {
      "text/plain": [
       "array([208500, 181500, 223500, ..., 266500, 142125, 147500])"
      ]
     },
     "execution_count": 59,
     "metadata": {},
     "output_type": "execute_result"
    }
   ],
   "source": [
    "y_true "
   ]
  },
  {
   "cell_type": "code",
   "execution_count": 60,
   "id": "d31f9df7",
   "metadata": {},
   "outputs": [],
   "source": [
    "y_true = np.log1p(y_true)"
   ]
  },
  {
   "cell_type": "code",
   "execution_count": 61,
   "id": "f493a383",
   "metadata": {},
   "outputs": [
    {
     "data": {
      "text/plain": [
       "array([12.24769912, 12.10901644, 12.31717117, ..., 12.49313327,\n",
       "       11.86446927, 11.90159023])"
      ]
     },
     "execution_count": 61,
     "metadata": {},
     "output_type": "execute_result"
    }
   ],
   "source": [
    "y_true "
   ]
  },
  {
   "cell_type": "markdown",
   "id": "54a39e18",
   "metadata": {},
   "source": [
    "# Load models"
   ]
  },
  {
   "cell_type": "code",
   "execution_count": 11,
   "id": "11438242",
   "metadata": {},
   "outputs": [],
   "source": [
    "lgb_file = \"lgb/lgb_bayes_5folds_training_10folds_predict.pkl\"\n",
    "lasso_file = \"lasso/lasso_bayes_robust_scaler.pkl\""
   ]
  },
  {
   "cell_type": "code",
   "execution_count": 12,
   "id": "d3ec9f66",
   "metadata": {},
   "outputs": [],
   "source": [
    "with open(lasso_file, 'rb') as f:\n",
    "    lasso = pickle.load(f)\n",
    "    oof_lasso_load = pickle.load(f)\n",
    "    sub_lasso_load = pickle.load(f)"
   ]
  },
  {
   "cell_type": "code",
   "execution_count": 13,
   "id": "1e3c37d2",
   "metadata": {},
   "outputs": [],
   "source": [
    "with open(lgb_file, 'rb') as f:\n",
    "    lgb = pickle.load(f)\n",
    "    oof_lgb_load = pickle.load(f)\n",
    "    sub_lgb_load = pickle.load(f)"
   ]
  },
  {
   "cell_type": "code",
   "execution_count": 14,
   "id": "1200f663",
   "metadata": {},
   "outputs": [
    {
     "data": {
      "text/plain": [
       "LGBMRegressor(colsample_bytree=0.6375272707875022,\n",
       "              learning_rate=0.04747556447678696, max_depth=26,\n",
       "              min_child_weight=12.355289016132312, n_estimators=946,\n",
       "              num_leaves=3, reg_lambda=2.5674370007989773)"
      ]
     },
     "execution_count": 14,
     "metadata": {},
     "output_type": "execute_result"
    }
   ],
   "source": [
    "lgb"
   ]
  },
  {
   "cell_type": "code",
   "execution_count": 15,
   "id": "72c45edd",
   "metadata": {},
   "outputs": [
    {
     "data": {
      "text/plain": [
       "array([204660.73493536, 172631.97803027, 212034.93036911, ...,\n",
       "       245423.55983916, 142918.39827003, 152169.42528783])"
      ]
     },
     "execution_count": 15,
     "metadata": {},
     "output_type": "execute_result"
    }
   ],
   "source": [
    "oof_lgb_load"
   ]
  },
  {
   "cell_type": "code",
   "execution_count": 16,
   "id": "9e7f38f6",
   "metadata": {},
   "outputs": [],
   "source": [
    "oof_lgb = np.log1p(oof_lgb_load)"
   ]
  },
  {
   "cell_type": "code",
   "execution_count": 17,
   "id": "8ce819f9",
   "metadata": {},
   "outputs": [
    {
     "data": {
      "text/plain": [
       "array([12.22911382, 12.05892311, 12.26451102, ..., 12.41074489,\n",
       "       11.8700361 , 11.93275639])"
      ]
     },
     "execution_count": 17,
     "metadata": {},
     "output_type": "execute_result"
    }
   ],
   "source": [
    "oof_lgb"
   ]
  },
  {
   "cell_type": "code",
   "execution_count": 18,
   "id": "9d2a7f19",
   "metadata": {},
   "outputs": [
    {
     "data": {
      "text/plain": [
       "array([120515.40738419, 161359.69732025, 185182.36666844, ...,\n",
       "       161033.206955  , 117733.35121203, 209463.6420758 ])"
      ]
     },
     "execution_count": 18,
     "metadata": {},
     "output_type": "execute_result"
    }
   ],
   "source": [
    "sub_lgb_load"
   ]
  },
  {
   "cell_type": "code",
   "execution_count": 19,
   "id": "780e401f",
   "metadata": {},
   "outputs": [
    {
     "data": {
      "text/plain": [
       "Lasso(alpha=0.0006109139664427438, max_iter=1028.3018415181295,\n",
       "      tol=0.00038080415058498035)"
      ]
     },
     "execution_count": 19,
     "metadata": {},
     "output_type": "execute_result"
    }
   ],
   "source": [
    "lasso"
   ]
  },
  {
   "cell_type": "code",
   "execution_count": 20,
   "id": "74e45c42",
   "metadata": {},
   "outputs": [
    {
     "data": {
      "text/plain": [
       "array([209492.92688934, 200698.04000235, 216413.34555741, ...,\n",
       "       268722.44820227, 142202.00556517, 153475.77539338])"
      ]
     },
     "execution_count": 20,
     "metadata": {},
     "output_type": "execute_result"
    }
   ],
   "source": [
    "oof_lasso_load"
   ]
  },
  {
   "cell_type": "code",
   "execution_count": 21,
   "id": "9e2fbcd3",
   "metadata": {},
   "outputs": [],
   "source": [
    "oof_lasso = np.log1p(oof_lasso_load)"
   ]
  },
  {
   "cell_type": "code",
   "execution_count": 22,
   "id": "1e0396fb",
   "metadata": {},
   "outputs": [
    {
     "data": {
      "text/plain": [
       "array([12.25245003, 12.20956175, 12.28495012, ..., 12.50143806,\n",
       "       11.86501093, 11.94130453])"
      ]
     },
     "execution_count": 22,
     "metadata": {},
     "output_type": "execute_result"
    }
   ],
   "source": [
    "oof_lasso"
   ]
  },
  {
   "cell_type": "code",
   "execution_count": 23,
   "id": "f65fc043",
   "metadata": {},
   "outputs": [
    {
     "data": {
      "text/plain": [
       "array([118728.89320158, 154435.59318384, 184061.68757863, ...,\n",
       "       167151.58039745, 118182.01099241, 229033.29091045])"
      ]
     },
     "execution_count": 23,
     "metadata": {},
     "output_type": "execute_result"
    }
   ],
   "source": [
    "sub_lasso_load"
   ]
  },
  {
   "cell_type": "code",
   "execution_count": 24,
   "id": "3fd5e57c",
   "metadata": {},
   "outputs": [],
   "source": [
    "oof = np.zeros((2, y_true.shape[0]))"
   ]
  },
  {
   "cell_type": "code",
   "execution_count": 25,
   "id": "6b164192",
   "metadata": {},
   "outputs": [
    {
     "data": {
      "text/plain": [
       "array([[12.22911382, 12.05892311, 12.26451102, ..., 12.41074489,\n",
       "        11.8700361 , 11.93275639],\n",
       "       [12.25245003, 12.20956175, 12.28495012, ..., 12.50143806,\n",
       "        11.86501093, 11.94130453]])"
      ]
     },
     "execution_count": 25,
     "metadata": {},
     "output_type": "execute_result"
    }
   ],
   "source": [
    "oof[0] = oof_lgb\n",
    "oof[1] = oof_lasso\n",
    "oof"
   ]
  },
  {
   "cell_type": "code",
   "execution_count": 26,
   "id": "f6d0e27a",
   "metadata": {},
   "outputs": [],
   "source": [
    "def get_models():\n",
    "    models = []\n",
    "    models.append(lgb)\n",
    "    models.append(lasso)\n",
    "    return models"
   ]
  },
  {
   "cell_type": "code",
   "execution_count": 27,
   "id": "fef54fab",
   "metadata": {},
   "outputs": [],
   "source": [
    "models = get_models()"
   ]
  },
  {
   "cell_type": "markdown",
   "id": "26d4b74b",
   "metadata": {},
   "source": [
    "# Voting Classifier"
   ]
  },
  {
   "cell_type": "code",
   "execution_count": 28,
   "id": "e43def75",
   "metadata": {},
   "outputs": [],
   "source": [
    "#clf = [rf, et, knn, svc, rg]\n",
    "#eclf = VotingClassifier(estimators=[('Random Forests', rf), ('Extra Trees', et), ('KNeighbors', knn), ('SVC', svc), ('Ridge Classifier', rg)], voting='hard')"
   ]
  },
  {
   "cell_type": "markdown",
   "id": "a762f91a",
   "metadata": {},
   "source": [
    "# Weighted Averaging"
   ]
  },
  {
   "cell_type": "code",
   "execution_count": 29,
   "id": "94a36c34",
   "metadata": {},
   "outputs": [],
   "source": [
    "from sklearn.metrics import mean_squared_error"
   ]
  },
  {
   "cell_type": "code",
   "execution_count": 30,
   "id": "446b6ff5",
   "metadata": {},
   "outputs": [],
   "source": [
    "def func_numpy_metric(weights):\n",
    "    oof_blend = np.tensordot(weights, oof, axes = 1)\n",
    "    #oof_blend = weights * oof\n",
    "    return mean_squared_error(y_true, oof_blend)"
   ]
  },
  {
   "cell_type": "code",
   "execution_count": 31,
   "id": "6ee61f7e",
   "metadata": {},
   "outputs": [
    {
     "data": {
      "text/plain": [
       "'def grad_func(weights):\\n    gradients = np.zeros(oof.shape[0])\\n    for i in range(oof.shape[0]):\\n        a, b, c = y_true, oof[i], np.zeros((oof.shape[1]))\\n        c += weights[i] * oof[i]\\n        gradients[i] = 1.0 / oof.shape[0] * (a-c) * (-a)\\n    return gradients'"
      ]
     },
     "execution_count": 31,
     "metadata": {},
     "output_type": "execute_result"
    }
   ],
   "source": [
    "\"\"\"def grad_func(weights):\n",
    "    gradients = np.zeros(oof.shape[0])\n",
    "    for i in range(oof.shape[0]):\n",
    "        a, b, c = y_true, oof[i], np.zeros((oof.shape[1]))\n",
    "        c += weights[i] * oof[i]\n",
    "        gradients[i] = 1.0 / oof.shape[0] * (a-c) * (-a)\n",
    "    return gradients\"\"\""
   ]
  },
  {
   "cell_type": "code",
   "execution_count": 32,
   "id": "11c175db",
   "metadata": {},
   "outputs": [
    {
     "name": "stdout",
     "output_type": "stream",
     "text": [
      "1 CV MSE:\t 0.013117135458378159\n",
      "1 CV RMSE:\t 0.11453006355703362\n",
      "2 CV MSE:\t 0.012508204111339691\n",
      "2 CV RMSE:\t 0.11184008275810463\n"
     ]
    }
   ],
   "source": [
    "neg_mean_square_scores = {}\n",
    "for i, key in enumerate(oof):\n",
    "    score_oof = mean_squared_error(y_true, key)\n",
    "    neg_mean_square_scores[i] = score_oof\n",
    "    print(f'{i+1} CV MSE:\\t', score_oof)\n",
    "    print(f'{i+1} CV RMSE:\\t', np.sqrt(score_oof))"
   ]
  },
  {
   "cell_type": "code",
   "execution_count": 33,
   "id": "132dea9d",
   "metadata": {},
   "outputs": [
    {
     "data": {
      "text/plain": [
       "[0.5, 0.5]"
      ]
     },
     "execution_count": 33,
     "metadata": {},
     "output_type": "execute_result"
    }
   ],
   "source": [
    "init_guess = [1 / oof.shape[0]] * oof.shape[0]\n",
    "init_guess"
   ]
  },
  {
   "cell_type": "code",
   "execution_count": 34,
   "id": "945f8827",
   "metadata": {},
   "outputs": [
    {
     "data": {
      "text/plain": [
       "[(0, 1), (0, 1)]"
      ]
     },
     "execution_count": 34,
     "metadata": {},
     "output_type": "execute_result"
    }
   ],
   "source": [
    "bnds = [(0, 1) for _ in range(oof.shape[0])]\n",
    "bnds"
   ]
  },
  {
   "cell_type": "code",
   "execution_count": 35,
   "id": "79718888",
   "metadata": {},
   "outputs": [
    {
     "data": {
      "text/plain": [
       "array([[12.22911382, 12.05892311, 12.26451102, ..., 12.41074489,\n",
       "        11.8700361 , 11.93275639],\n",
       "       [12.25245003, 12.20956175, 12.28495012, ..., 12.50143806,\n",
       "        11.86501093, 11.94130453]])"
      ]
     },
     "execution_count": 35,
     "metadata": {},
     "output_type": "execute_result"
    }
   ],
   "source": [
    "oof"
   ]
  },
  {
   "cell_type": "code",
   "execution_count": 36,
   "id": "300dcd04",
   "metadata": {},
   "outputs": [
    {
     "data": {
      "text/plain": [
       "array([12.24078193, 12.13424243, 12.27473057, ..., 12.45609147,\n",
       "       11.86752352, 11.93703046])"
      ]
     },
     "execution_count": 36,
     "metadata": {},
     "output_type": "execute_result"
    }
   ],
   "source": [
    "oof_blend2 = np.tensordot(init_guess, oof, axes = 1)\n",
    "oof_blend2"
   ]
  },
  {
   "cell_type": "code",
   "execution_count": 40,
   "id": "a17f55f3",
   "metadata": {},
   "outputs": [],
   "source": [
    "tol = 1e-8"
   ]
  },
  {
   "cell_type": "code",
   "execution_count": 41,
   "id": "20219ae8",
   "metadata": {},
   "outputs": [
    {
     "name": "stdout",
     "output_type": "stream",
     "text": [
      "Inital Blend OOF: 0.011942046954487799\n",
      "Optimization terminated successfully.\n",
      "         Current function value: 0.011915\n",
      "         Iterations: 61\n",
      "         Function evaluations: 122\n",
      "[00:00] Optimised Blend OOF: 0.011915244158625311\n",
      "RMSE Optimised Blend OOF: 0.10915697027045644\n",
      "Optimised Weights: [0.41253294 0.58743138]\n"
     ]
    }
   ],
   "source": [
    "# tol = 1e-10\n",
    "init_guess = [1 / oof.shape[0]] * oof.shape[0]\n",
    "bnds = [(0, 1) for _ in range(oof.shape[0])]\n",
    "'''cons = {'type': 'eq', \n",
    "        'fun': lambda x: np.sum(x) - 1, \n",
    "        'jac': lambda x: [1] * len(x)}\n",
    "'''\n",
    "print('Inital Blend OOF:', func_numpy_metric(init_guess))\n",
    "start_time = time()\n",
    "res_scipy = minimize(fun = func_numpy_metric, \n",
    "                     x0 = init_guess, \n",
    "                     method = 'nelder-mead', \n",
    "                     #jac = grad_func, # grad_func \n",
    "                     bounds = bnds, \n",
    "                     #constraints = cons, \n",
    "                     #tol = tol,\n",
    "                     options={'xatol': tol, 'disp': True})\n",
    "print(f'[{str(datetime.timedelta(seconds = time() - start_time))[2:7]}] Optimised Blend OOF:', res_scipy.fun)\n",
    "print('RMSE Optimised Blend OOF:', np.sqrt(res_scipy.fun))\n",
    "print('Optimised Weights:', res_scipy.x)"
   ]
  },
  {
   "cell_type": "code",
   "execution_count": 42,
   "id": "2d8649af",
   "metadata": {},
   "outputs": [
    {
     "name": "stdout",
     "output_type": "stream",
     "text": [
      "Check the sum of all weights: 0.9999643277266199\n",
      "Great! The sum of all weights equals to 1!\n"
     ]
    }
   ],
   "source": [
    "print('Check the sum of all weights:', np.sum(res_scipy.x))\n",
    "if np.sum(res_scipy.x) - 1 <= tol:\n",
    "    print('Great! The sum of all weights equals to 1!')\n",
    "else:\n",
    "    print('Manual adjustion is needed to modify the weights.')"
   ]
  },
  {
   "cell_type": "markdown",
   "id": "8315c404",
   "metadata": {},
   "source": [
    "# Stacking"
   ]
  },
  {
   "cell_type": "code",
   "execution_count": 62,
   "id": "942cefb9",
   "metadata": {},
   "outputs": [],
   "source": [
    "from sklearn.linear_model import LinearRegression\n",
    "from mlens.metrics import make_scorer\n",
    "from sklearn.metrics import mean_squared_error"
   ]
  },
  {
   "cell_type": "code",
   "execution_count": 63,
   "id": "e7685620",
   "metadata": {},
   "outputs": [],
   "source": [
    "def scoring(y_true, y_pred):\n",
    "    return -mean_squared_error(y_true, y_pred)"
   ]
  },
  {
   "cell_type": "code",
   "execution_count": 64,
   "id": "1a11b322",
   "metadata": {},
   "outputs": [],
   "source": [
    "stacking = SuperLearner(scorer=scoring, folds=10, shuffle=True, sample_size=len(X_train), random_state=SEED, verbose=1)"
   ]
  },
  {
   "cell_type": "code",
   "execution_count": 65,
   "id": "c85a3b2a",
   "metadata": {},
   "outputs": [
    {
     "data": {
      "text/plain": [
       "SuperLearner(array_check=None, backend=None, folds=10,\n",
       "       layers=[Layer(backend='threading', dtype=<class 'numpy.float32'>, n_jobs=-1,\n",
       "   name='layer-1', propagate_features=None, raise_on_exception=True,\n",
       "   random_state=5327, shuffle=True,\n",
       "   stack=[Group(backend='threading', dtype=<class 'numpy.float32'>,\n",
       "   indexer=FoldIndex(X=None, folds=10, raise_on_ex...c3d64c0>)],\n",
       "   n_jobs=-1, name='group-0', raise_on_exception=True, transformers=[])],\n",
       "   verbose=0)],\n",
       "       model_selection=False, n_jobs=None, raise_on_exception=True,\n",
       "       random_state=21, sample_size=1456,\n",
       "       scorer=<function scoring at 0x7f42ac3d64c0>, shuffle=True,\n",
       "       verbose=1)"
      ]
     },
     "execution_count": 65,
     "metadata": {},
     "output_type": "execute_result"
    }
   ],
   "source": [
    "stacking.add(models)"
   ]
  },
  {
   "cell_type": "code",
   "execution_count": 66,
   "id": "3493f2fe",
   "metadata": {},
   "outputs": [
    {
     "data": {
      "text/plain": [
       "SuperLearner(array_check=None, backend=None, folds=10,\n",
       "       layers=[Layer(backend='threading', dtype=<class 'numpy.float32'>, n_jobs=-1,\n",
       "   name='layer-1', propagate_features=None, raise_on_exception=True,\n",
       "   random_state=5327, shuffle=True,\n",
       "   stack=[Group(backend='threading', dtype=<class 'numpy.float32'>,\n",
       "   indexer=FoldIndex(X=None, folds=10, raise_on_ex...c3d64c0>)],\n",
       "   n_jobs=-1, name='group-1', raise_on_exception=True, transformers=[])],\n",
       "   verbose=0)],\n",
       "       model_selection=False, n_jobs=None, raise_on_exception=True,\n",
       "       random_state=21, sample_size=1456,\n",
       "       scorer=<function scoring at 0x7f42ac3d64c0>, shuffle=True,\n",
       "       verbose=1)"
      ]
     },
     "execution_count": 66,
     "metadata": {},
     "output_type": "execute_result"
    }
   ],
   "source": [
    "stacking.add_meta(XGBRegressor())"
   ]
  },
  {
   "cell_type": "code",
   "execution_count": 67,
   "id": "f91a2767",
   "metadata": {},
   "outputs": [
    {
     "data": {
      "text/plain": [
       "array([[6.000e+01, 6.500e+01, 8.450e+03, ..., 0.000e+00, 1.000e+00,\n",
       "        0.000e+00],\n",
       "       [2.000e+01, 8.000e+01, 9.600e+03, ..., 0.000e+00, 1.000e+00,\n",
       "        0.000e+00],\n",
       "       [6.000e+01, 6.800e+01, 1.125e+04, ..., 0.000e+00, 1.000e+00,\n",
       "        0.000e+00],\n",
       "       ...,\n",
       "       [7.000e+01, 6.600e+01, 9.042e+03, ..., 0.000e+00, 1.000e+00,\n",
       "        0.000e+00],\n",
       "       [2.000e+01, 6.800e+01, 9.717e+03, ..., 0.000e+00, 1.000e+00,\n",
       "        0.000e+00],\n",
       "       [2.000e+01, 7.500e+01, 9.937e+03, ..., 0.000e+00, 1.000e+00,\n",
       "        0.000e+00]])"
      ]
     },
     "execution_count": 67,
     "metadata": {},
     "output_type": "execute_result"
    }
   ],
   "source": [
    "X_train.to_numpy()"
   ]
  },
  {
   "cell_type": "code",
   "execution_count": 68,
   "id": "e485e8c0",
   "metadata": {},
   "outputs": [
    {
     "data": {
      "text/plain": [
       "array([12.24769912, 12.10901644, 12.31717117, ..., 12.49313327,\n",
       "       11.86446927, 11.90159023])"
      ]
     },
     "execution_count": 68,
     "metadata": {},
     "output_type": "execute_result"
    }
   ],
   "source": [
    "y_train.to_numpy()"
   ]
  },
  {
   "cell_type": "code",
   "execution_count": 69,
   "id": "61f6ffc8",
   "metadata": {},
   "outputs": [
    {
     "name": "stdout",
     "output_type": "stream",
     "text": [
      "\n",
      "Fitting 2 layers\n"
     ]
    },
    {
     "name": "stderr",
     "output_type": "stream",
     "text": [
      "/home/roma/.local/lib/python3.8/site-packages/sklearn/linear_model/_coordinate_descent.py:645: ConvergenceWarning: Objective did not converge. You might want to increase the number of iterations, check the scale of the features or consider increasing regularisation. Duality gap: 7.702e+00, tolerance: 7.963e-02\n",
      "  model = cd_fast.enet_coordinate_descent(\n",
      "/home/roma/.local/lib/python3.8/site-packages/sklearn/linear_model/_coordinate_descent.py:645: ConvergenceWarning: Objective did not converge. You might want to increase the number of iterations, check the scale of the features or consider increasing regularisation. Duality gap: 7.437e+00, tolerance: 7.812e-02\n",
      "  model = cd_fast.enet_coordinate_descent(\n",
      "/home/roma/.local/lib/python3.8/site-packages/sklearn/linear_model/_coordinate_descent.py:645: ConvergenceWarning: Objective did not converge. You might want to increase the number of iterations, check the scale of the features or consider increasing regularisation. Duality gap: 7.496e+00, tolerance: 7.810e-02\n",
      "  model = cd_fast.enet_coordinate_descent(\n",
      "/home/roma/.local/lib/python3.8/site-packages/sklearn/linear_model/_coordinate_descent.py:645: ConvergenceWarning: Objective did not converge. You might want to increase the number of iterations, check the scale of the features or consider increasing regularisation. Duality gap: 7.053e+00, tolerance: 7.842e-02\n",
      "  model = cd_fast.enet_coordinate_descent(\n",
      "/home/roma/.local/lib/python3.8/site-packages/sklearn/linear_model/_coordinate_descent.py:645: ConvergenceWarning: Objective did not converge. You might want to increase the number of iterations, check the scale of the features or consider increasing regularisation. Duality gap: 7.722e+00, tolerance: 7.827e-02\n",
      "  model = cd_fast.enet_coordinate_descent(\n",
      "/home/roma/.local/lib/python3.8/site-packages/sklearn/linear_model/_coordinate_descent.py:645: ConvergenceWarning: Objective did not converge. You might want to increase the number of iterations, check the scale of the features or consider increasing regularisation. Duality gap: 8.351e+00, tolerance: 8.692e-02\n",
      "  model = cd_fast.enet_coordinate_descent(\n",
      "/home/roma/.local/lib/python3.8/site-packages/sklearn/linear_model/_coordinate_descent.py:645: ConvergenceWarning: Objective did not converge. You might want to increase the number of iterations, check the scale of the features or consider increasing regularisation. Duality gap: 7.563e+00, tolerance: 8.041e-02\n",
      "  model = cd_fast.enet_coordinate_descent(\n",
      "/home/roma/.local/lib/python3.8/site-packages/sklearn/linear_model/_coordinate_descent.py:645: ConvergenceWarning: Objective did not converge. You might want to increase the number of iterations, check the scale of the features or consider increasing regularisation. Duality gap: 7.311e+00, tolerance: 7.730e-02\n",
      "  model = cd_fast.enet_coordinate_descent(\n",
      "/home/roma/.local/lib/python3.8/site-packages/sklearn/linear_model/_coordinate_descent.py:645: ConvergenceWarning: Objective did not converge. You might want to increase the number of iterations, check the scale of the features or consider increasing regularisation. Duality gap: 7.682e+00, tolerance: 7.833e-02\n",
      "  model = cd_fast.enet_coordinate_descent(\n",
      "/home/roma/.local/lib/python3.8/site-packages/sklearn/linear_model/_coordinate_descent.py:645: ConvergenceWarning: Objective did not converge. You might want to increase the number of iterations, check the scale of the features or consider increasing regularisation. Duality gap: 7.190e+00, tolerance: 7.798e-02\n",
      "  model = cd_fast.enet_coordinate_descent(\n",
      "/home/roma/.local/lib/python3.8/site-packages/sklearn/linear_model/_coordinate_descent.py:645: ConvergenceWarning: Objective did not converge. You might want to increase the number of iterations, check the scale of the features or consider increasing regularisation. Duality gap: 7.219e+00, tolerance: 7.569e-02\n",
      "  model = cd_fast.enet_coordinate_descent(\n"
     ]
    },
    {
     "name": "stdout",
     "output_type": "stream",
     "text": [
      "Fit complete                        | 00:00:05\n"
     ]
    },
    {
     "data": {
      "text/plain": [
       "SuperLearner(array_check=None, backend=None, folds=10,\n",
       "       layers=[Layer(backend='threading', dtype=<class 'numpy.float32'>, n_jobs=-1,\n",
       "   name='layer-1', propagate_features=None, raise_on_exception=True,\n",
       "   random_state=5327, shuffle=True,\n",
       "   stack=[Group(backend='threading', dtype=<class 'numpy.float32'>,\n",
       "   indexer=FoldIndex(X=None, folds=10, raise_on_ex...c3d64c0>)],\n",
       "   n_jobs=-1, name='group-1', raise_on_exception=True, transformers=[])],\n",
       "   verbose=0)],\n",
       "       model_selection=False, n_jobs=None, raise_on_exception=True,\n",
       "       random_state=21, sample_size=1456,\n",
       "       scorer=<function scoring at 0x7f42ac3d64c0>, shuffle=True,\n",
       "       verbose=1)"
      ]
     },
     "execution_count": 69,
     "metadata": {},
     "output_type": "execute_result"
    }
   ],
   "source": [
    "stacking.fit(X_train.to_numpy(), y_train.to_numpy())"
   ]
  },
  {
   "cell_type": "code",
   "execution_count": 70,
   "id": "1daf7444",
   "metadata": {},
   "outputs": [
    {
     "name": "stdout",
     "output_type": "stream",
     "text": [
      "\n",
      "Predicting 2 layers\n",
      "Predict complete                    | 00:00:00\n"
     ]
    }
   ],
   "source": [
    "mse = mean_squared_error(y_train.to_numpy(), stacking.predict(X_train.to_numpy()))"
   ]
  },
  {
   "cell_type": "code",
   "execution_count": 71,
   "id": "0ba2cd6a",
   "metadata": {},
   "outputs": [
    {
     "data": {
      "text/plain": [
       "0.009828809020354616"
      ]
     },
     "execution_count": 71,
     "metadata": {},
     "output_type": "execute_result"
    }
   ],
   "source": [
    "mse"
   ]
  },
  {
   "cell_type": "code",
   "execution_count": 72,
   "id": "0899aafe",
   "metadata": {},
   "outputs": [
    {
     "data": {
      "text/plain": [
       "0.09914035011212446"
      ]
     },
     "execution_count": 72,
     "metadata": {},
     "output_type": "execute_result"
    }
   ],
   "source": [
    "rmse = np.sqrt(mse)\n",
    "rmse"
   ]
  },
  {
   "cell_type": "code",
   "execution_count": 73,
   "id": "0f7039ed",
   "metadata": {},
   "outputs": [
    {
     "name": "stdout",
     "output_type": "stream",
     "text": [
      "\n",
      "Predicting 2 layers\n",
      "Predict complete                    | 00:00:00\n"
     ]
    }
   ],
   "source": [
    "stacking_pred = np.expm1(stacking.predict(X_pred.to_numpy()))"
   ]
  },
  {
   "cell_type": "code",
   "execution_count": 74,
   "id": "547224bd",
   "metadata": {},
   "outputs": [
    {
     "data": {
      "text/plain": [
       "array([119453.75, 151543.36, 177670.95, ..., 160467.23, 121867.65,\n",
       "       254489.94], dtype=float32)"
      ]
     },
     "execution_count": 74,
     "metadata": {},
     "output_type": "execute_result"
    }
   ],
   "source": [
    "stacking_pred"
   ]
  },
  {
   "cell_type": "markdown",
   "id": "64436651",
   "metadata": {},
   "source": [
    "# Blending"
   ]
  },
  {
   "cell_type": "code",
   "execution_count": 76,
   "id": "9119e249",
   "metadata": {},
   "outputs": [],
   "source": [
    "blending = BlendEnsemble(test_size=0.5, shuffle=True, scorer=scoring, sample_size=len(X_train), random_state=SEED, verbose=1)"
   ]
  },
  {
   "cell_type": "code",
   "execution_count": 77,
   "id": "4b339f7d",
   "metadata": {},
   "outputs": [
    {
     "data": {
      "text/plain": [
       "BlendEnsemble(array_check=None, backend=None,\n",
       "       layers=[Layer(backend='threading', dtype=<class 'numpy.float32'>, n_jobs=-1,\n",
       "   name='layer-1', propagate_features=None, raise_on_exception=True,\n",
       "   random_state=5327, shuffle=True,\n",
       "   stack=[Group(backend='threading', dtype=<class 'numpy.float32'>,\n",
       "   indexer=BlendIndex(X=None, raise_on_exception=T...c3d64c0>)],\n",
       "   n_jobs=-1, name='group-2', raise_on_exception=True, transformers=[])],\n",
       "   verbose=0)],\n",
       "       model_selection=False, n_jobs=None, raise_on_exception=True,\n",
       "       random_state=21, sample_size=1456,\n",
       "       scorer=<function scoring at 0x7f42ac3d64c0>, shuffle=True,\n",
       "       test_size=0.5, verbose=1)"
      ]
     },
     "execution_count": 77,
     "metadata": {},
     "output_type": "execute_result"
    }
   ],
   "source": [
    "blending.add(models)"
   ]
  },
  {
   "cell_type": "code",
   "execution_count": 78,
   "id": "be54e952",
   "metadata": {},
   "outputs": [
    {
     "data": {
      "text/plain": [
       "BlendEnsemble(array_check=None, backend=None,\n",
       "       layers=[Layer(backend='threading', dtype=<class 'numpy.float32'>, n_jobs=-1,\n",
       "   name='layer-1', propagate_features=None, raise_on_exception=True,\n",
       "   random_state=5327, shuffle=True,\n",
       "   stack=[Group(backend='threading', dtype=<class 'numpy.float32'>,\n",
       "   indexer=BlendIndex(X=None, raise_on_exception=T...c3d64c0>)],\n",
       "   n_jobs=-1, name='group-3', raise_on_exception=True, transformers=[])],\n",
       "   verbose=0)],\n",
       "       model_selection=False, n_jobs=None, raise_on_exception=True,\n",
       "       random_state=21, sample_size=1456,\n",
       "       scorer=<function scoring at 0x7f42ac3d64c0>, shuffle=True,\n",
       "       test_size=0.5, verbose=1)"
      ]
     },
     "execution_count": 78,
     "metadata": {},
     "output_type": "execute_result"
    }
   ],
   "source": [
    "blending.add_meta(XGBRegressor())"
   ]
  },
  {
   "cell_type": "code",
   "execution_count": 79,
   "id": "bde92934",
   "metadata": {},
   "outputs": [
    {
     "name": "stdout",
     "output_type": "stream",
     "text": [
      "\n",
      "Fitting 2 layers\n"
     ]
    },
    {
     "name": "stderr",
     "output_type": "stream",
     "text": [
      "/home/roma/.local/lib/python3.8/site-packages/sklearn/linear_model/_coordinate_descent.py:645: ConvergenceWarning: Objective did not converge. You might want to increase the number of iterations, check the scale of the features or consider increasing regularisation. Duality gap: 3.454e+00, tolerance: 4.611e-02\n",
      "  model = cd_fast.enet_coordinate_descent(\n",
      "/home/roma/.local/lib/python3.8/site-packages/sklearn/linear_model/_coordinate_descent.py:645: ConvergenceWarning: Objective did not converge. You might want to increase the number of iterations, check the scale of the features or consider increasing regularisation. Duality gap: 8.351e+00, tolerance: 8.692e-02\n",
      "  model = cd_fast.enet_coordinate_descent(\n"
     ]
    },
    {
     "name": "stdout",
     "output_type": "stream",
     "text": [
      "Fit complete                        | 00:00:01\n"
     ]
    },
    {
     "data": {
      "text/plain": [
       "BlendEnsemble(array_check=None, backend=None,\n",
       "       layers=[Layer(backend='threading', dtype=<class 'numpy.float32'>, n_jobs=-1,\n",
       "   name='layer-1', propagate_features=None, raise_on_exception=True,\n",
       "   random_state=5327, shuffle=True,\n",
       "   stack=[Group(backend='threading', dtype=<class 'numpy.float32'>,\n",
       "   indexer=BlendIndex(X=None, raise_on_exception=T...c3d64c0>)],\n",
       "   n_jobs=-1, name='group-3', raise_on_exception=True, transformers=[])],\n",
       "   verbose=0)],\n",
       "       model_selection=False, n_jobs=None, raise_on_exception=True,\n",
       "       random_state=21, sample_size=1456,\n",
       "       scorer=<function scoring at 0x7f42ac3d64c0>, shuffle=True,\n",
       "       test_size=0.5, verbose=1)"
      ]
     },
     "execution_count": 79,
     "metadata": {},
     "output_type": "execute_result"
    }
   ],
   "source": [
    "blending.fit(X_train.to_numpy(), y_train.to_numpy())"
   ]
  },
  {
   "cell_type": "code",
   "execution_count": 80,
   "id": "fccf8f93",
   "metadata": {},
   "outputs": [
    {
     "name": "stdout",
     "output_type": "stream",
     "text": [
      "\n",
      "Predicting 2 layers\n",
      "Predict complete                    | 00:00:00\n"
     ]
    },
    {
     "data": {
      "text/plain": [
       "0.014238851757953995"
      ]
     },
     "execution_count": 80,
     "metadata": {},
     "output_type": "execute_result"
    }
   ],
   "source": [
    "mse = mean_squared_error(y_train.to_numpy(), blending.predict(X_train.to_numpy()))\n",
    "mse"
   ]
  },
  {
   "cell_type": "code",
   "execution_count": 81,
   "id": "9afe749e",
   "metadata": {},
   "outputs": [
    {
     "data": {
      "text/plain": [
       "0.11932665987931614"
      ]
     },
     "execution_count": 81,
     "metadata": {},
     "output_type": "execute_result"
    }
   ],
   "source": [
    "rmse = np.sqrt(mse)\n",
    "rmse"
   ]
  },
  {
   "cell_type": "code",
   "execution_count": 82,
   "id": "19e301d6",
   "metadata": {},
   "outputs": [
    {
     "name": "stdout",
     "output_type": "stream",
     "text": [
      "\n",
      "Predicting 2 layers\n",
      "Predict complete                    | 00:00:00\n"
     ]
    }
   ],
   "source": [
    "blending_pred = np.expm1(stacking.predict(X_pred.to_numpy()))"
   ]
  },
  {
   "cell_type": "code",
   "execution_count": 83,
   "id": "c33da57c",
   "metadata": {},
   "outputs": [
    {
     "data": {
      "text/plain": [
       "array([119453.75, 151543.36, 177670.95, ..., 160467.23, 121867.65,\n",
       "       254489.94], dtype=float32)"
      ]
     },
     "execution_count": 83,
     "metadata": {},
     "output_type": "execute_result"
    }
   ],
   "source": [
    "blending_pred"
   ]
  },
  {
   "cell_type": "markdown",
   "id": "184c1031",
   "metadata": {},
   "source": [
    "# Final Submission"
   ]
  },
  {
   "cell_type": "code",
   "execution_count": 46,
   "id": "bfff39d0",
   "metadata": {},
   "outputs": [
    {
     "data": {
      "text/plain": [
       "0.9999643199999999"
      ]
     },
     "execution_count": 46,
     "metadata": {},
     "output_type": "execute_result"
    }
   ],
   "source": [
    "0.41253294 + 0.58743138"
   ]
  },
  {
   "cell_type": "code",
   "execution_count": 85,
   "id": "2c98cebf",
   "metadata": {},
   "outputs": [],
   "source": [
    "# LB 0.14157\n",
    "ens = stacking_pred\n",
    "submission = pd.DataFrame()\n",
    "submission['Id'] = pred['Id']\n",
    "submission[\"SalePrice\"] = ens\n",
    "submission.to_csv(\"submit_ensemble.csv\", index=False)"
   ]
  },
  {
   "cell_type": "code",
   "execution_count": null,
   "id": "d7f0b877",
   "metadata": {},
   "outputs": [],
   "source": []
  }
 ],
 "metadata": {
  "kernelspec": {
   "display_name": "Python 3 (ipykernel)",
   "language": "python",
   "name": "python3"
  },
  "language_info": {
   "codemirror_mode": {
    "name": "ipython",
    "version": 3
   },
   "file_extension": ".py",
   "mimetype": "text/x-python",
   "name": "python",
   "nbconvert_exporter": "python",
   "pygments_lexer": "ipython3",
   "version": "3.8.10"
  }
 },
 "nbformat": 4,
 "nbformat_minor": 5
}
